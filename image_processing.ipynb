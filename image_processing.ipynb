{
 "cells": [
  {
   "cell_type": "code",
   "execution_count": 1,
   "metadata": {},
   "outputs": [
    {
     "data": {
      "text/plain": [
       "'4.5.5'"
      ]
     },
     "execution_count": 1,
     "metadata": {},
     "output_type": "execute_result"
    }
   ],
   "source": [
    "import librosa\n",
    "import librosa.display\n",
    "\n",
    "import cv2\n",
    "import os\n",
    "\n",
    "import numpy as np\n",
    "import matplotlib.pyplot as plt\n",
    "cv2.__version__"
   ]
  },
  {
   "cell_type": "code",
   "execution_count": 2,
   "metadata": {},
   "outputs": [
    {
     "data": {
      "text/plain": [
       "(441000,)"
      ]
     },
     "execution_count": 2,
     "metadata": {},
     "output_type": "execute_result"
    }
   ],
   "source": [
    "y = np.load('test.npz')['sig']\n",
    "sr = 44100\n",
    "y.shape"
   ]
  },
  {
   "cell_type": "code",
   "execution_count": 3,
   "metadata": {},
   "outputs": [
    {
     "name": "stdout",
     "output_type": "stream",
     "text": [
      "(288, 862)\n",
      "0 255\n"
     ]
    }
   ],
   "source": [
    "hop_len = 512\n",
    "freq_w = 3\n",
    "octave = 8\n",
    "\n",
    "C = librosa.cqt(y, sr=sr, hop_length= hop_len, n_bins= 12*freq_w*octave, bins_per_octave= 12*freq_w)\n",
    "C_db = librosa.amplitude_to_db(np.abs(C),ref=np.max)+80\n",
    "c_compression = (C_db/80*255).astype(np.uint8)\n",
    "print(C_db.shape)\n",
    "print(c_compression.min(),c_compression.max())"
   ]
  },
  {
   "cell_type": "code",
   "execution_count": 4,
   "metadata": {},
   "outputs": [],
   "source": [
    "gaussian_mask = np.array([[1/16,1/8,1/16], [1/8,1/4,1/8], [1/16,1/8,1/16]])\n",
    "sharpening_mask1 = np.array([[-1, -1, -1], [-1, 9, -1], [-1, -1, -1]])\n",
    "sharpening_mask2 = np.array([[0, -1, 0], [-1, 5, -1], [0, -1, 0]])"
   ]
  },
  {
   "cell_type": "code",
   "execution_count": null,
   "metadata": {},
   "outputs": [],
   "source": [
    "def nothing(pos):\n",
    "    pass\n",
    "\n",
    "src = c_compression\n",
    "\n",
    "cv2.namedWindow('spectrum')\n",
    "cv2.createTrackbar('min','spectrum',0,255,nothing)\n",
    "\n",
    "cv2.imshow('spectrum', src)\n",
    "img = src.copy()\n",
    "tmp = []\n",
    "while True:\n",
    "    tmp.append(img.copy())\n",
    "    \n",
    "    kw=cv2.waitKey()\n",
    "    if kw==27:\n",
    "        break\n",
    "    elif kw==ord('z'):\n",
    "        img = tmp.pop()\n",
    "        print('실행취소')\n",
    "    elif kw==ord('r'):\n",
    "        img = src.copy()\n",
    "        print()\n",
    "        print('-'*10)\n",
    "        print(\"Reset\")\n",
    "        print('-'*10)\n",
    "        print()\n",
    "    elif kw==ord('t'):\n",
    "        pos = cv2.getTrackbarPos('min','spectrum')\n",
    "        img = np.where(img<pos,0,img)\n",
    "        print(\"%d under 0\"%pos)\n",
    "    elif kw==ord('s'):\n",
    "        i_min = img.min()\n",
    "        i_max = img.max()\n",
    "        img = 255/(i_max-i_min)*(img-i_min)\n",
    "        print(\"stretching\")\n",
    "    elif kw==ord('g'):\n",
    "        img = cv2.filter2D(img,-1,gaussian_mask)\n",
    "        print(\"Gaussian filter\")\n",
    "    elif kw==ord('1'):\n",
    "        img = cv2.filter2D(img,-1,sharpening_mask1)\n",
    "        print(\"8 connected sharpening\")\n",
    "    elif kw==ord('2'):\n",
    "        img = cv2.filter2D(img,-1,sharpening_mask2)\n",
    "        print(\"4 connected sharpening\")\n",
    "        \n",
    "    cv2.imshow('spectrum', img)\n",
    "        \n",
    "\n",
    "cv2.destroyAllWindows()"
   ]
  },
  {
   "cell_type": "code",
   "execution_count": null,
   "metadata": {},
   "outputs": [],
   "source": []
  }
 ],
 "metadata": {
  "interpreter": {
   "hash": "6eedcdad1dd879e8d32c2300ceddefaddf12f08d76166a315be463aad8107c0d"
  },
  "kernelspec": {
   "display_name": "Python 3.9.12 ('MA')",
   "language": "python",
   "name": "python3"
  },
  "language_info": {
   "codemirror_mode": {
    "name": "ipython",
    "version": 3
   },
   "file_extension": ".py",
   "mimetype": "text/x-python",
   "name": "python",
   "nbconvert_exporter": "python",
   "pygments_lexer": "ipython3",
   "version": "3.9.12"
  },
  "orig_nbformat": 4
 },
 "nbformat": 4,
 "nbformat_minor": 2
}
