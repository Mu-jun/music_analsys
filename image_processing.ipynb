{
 "cells": [
  {
   "cell_type": "code",
   "execution_count": 8,
   "metadata": {},
   "outputs": [
    {
     "data": {
      "text/plain": [
       "'4.5.5'"
      ]
     },
     "execution_count": 8,
     "metadata": {},
     "output_type": "execute_result"
    }
   ],
   "source": [
    "import librosa\n",
    "import librosa.display\n",
    "\n",
    "import cv2\n",
    "import os\n",
    "\n",
    "import numpy as np\n",
    "import matplotlib.pyplot as plt\n",
    "cv2.__version__"
   ]
  },
  {
   "cell_type": "code",
   "execution_count": 9,
   "metadata": {},
   "outputs": [
    {
     "name": "stdout",
     "output_type": "stream",
     "text": [
      "(3424768,) 22050\n"
     ]
    }
   ],
   "source": [
    "filename = 'Tears_of_a_witch_SFA.wav'\n",
    "y,sr = librosa.load(filename)\n",
    "print(y.shape, sr)"
   ]
  },
  {
   "cell_type": "code",
   "execution_count": 10,
   "metadata": {},
   "outputs": [
    {
     "name": "stdout",
     "output_type": "stream",
     "text": [
      "Estimated tempo: 117.45 beats per minute\n"
     ]
    }
   ],
   "source": [
    "onset_env = librosa.onset.onset_strength(y=y, sr=sr)\n",
    "\n",
    "# Run the default beat tracker\n",
    "tempo, beat_frames = librosa.beat.beat_track(y=y, sr=sr)\n",
    "print('Estimated tempo: {:.2f} beats per minute'.format(tempo))\n",
    "\n",
    "# dynamic tempo\n",
    "dtempo = librosa.beat.tempo(onset_envelope=onset_env, sr=sr,\n",
    "                            aggregate=None)"
   ]
  },
  {
   "cell_type": "code",
   "execution_count": 11,
   "metadata": {},
   "outputs": [
    {
     "name": "stdout",
     "output_type": "stream",
     "text": [
      "(252, 6690)\n",
      "0 255\n"
     ]
    }
   ],
   "source": [
    "hop_len = 512\n",
    "freq_w = 3\n",
    "octave = 7\n",
    "\n",
    "C = librosa.cqt(y, sr=sr, hop_length= hop_len, n_bins= 12*freq_w*octave, bins_per_octave= 12*freq_w)\n",
    "C_db = librosa.amplitude_to_db(np.abs(C),ref=np.max)+80\n",
    "c_compression = (C_db/80*255).astype(np.uint8)\n",
    "print(C_db.shape)\n",
    "print(c_compression.min(),c_compression.max())"
   ]
  },
  {
   "cell_type": "code",
   "execution_count": 12,
   "metadata": {},
   "outputs": [],
   "source": [
    "gaussian_mask = np.array([[1/16,1/8,1/16], [1/8,1/4,1/8], [1/16,1/8,1/16]])\n",
    "sharpening_mask1 = np.array([[-1, -1, -1], [-1, 9, -1], [-1, -1, -1]])\n",
    "sharpening_mask2 = np.array([[0, -1, 0], [-1, 5, -1], [0, -1, 0]])"
   ]
  },
  {
   "cell_type": "code",
   "execution_count": 13,
   "metadata": {},
   "outputs": [],
   "source": [
    "def nothing(pos):\n",
    "    pass\n",
    "\n",
    "def working():\n",
    "    cv2.destroyAllWindows()\n",
    "    raise NotImplementedError    \n",
    "\n",
    "def gaussian(source):\n",
    "    gaussian_mask = np.array([[1/16,1/8,1/16], [1/8,1/4,1/8], [1/16,1/8,1/16]])\n",
    "    result = cv2.filter2D(source,-1,gaussian_mask)\n",
    "    print(\"Gaussian filter\")\n",
    "    return result\n",
    "\n",
    "def sharpening1(source):\n",
    "    sharpening_mask1 = np.array([[-1, -1, -1], [-1, 9, -1], [-1, -1, -1]])\n",
    "    result = cv2.filter2D(source,-1,sharpening_mask1)\n",
    "    print(\"8 connected sharpening\")\n",
    "    return result\n",
    "\n",
    "def sharpening2(source):\n",
    "    sharpening_mask2 = np.array([[0, -1, 0], [-1, 5, -1], [0, -1, 0]])\n",
    "    result = cv2.filter2D(source,-1,sharpening_mask2)\n",
    "    print(\"4 connected sharpening\")\n",
    "    return result\n",
    "\n",
    "def stretching(source,pos):\n",
    "    i_min = pos\n",
    "    i_max = source.max()\n",
    "    result = (255/(i_max-i_min)*(source-i_min)).astype(np.uint8)\n",
    "    print(\"stretching\")\n",
    "    return result\n",
    "\n",
    "def n_under0(source, pos):\n",
    "    source[source<=pos]=0\n",
    "    print(\"%d under 0\"%pos)\n",
    "    return source\n",
    "\n",
    "def div(source, pos):\n",
    "    source = (source*(pos/255)).astype(np.uint8)\n",
    "    print(\"%d div_fn\"%pos/255)\n",
    "    return source\n",
    "\n",
    "def value_up(source, pos):\n",
    "    h,w = source.shape[:2]\n",
    "    a = np.ones((h,w),np.uint8)*pos\n",
    "    source = cv2.add(source,a)\n",
    "    print(\"up shift %d\"%pos)\n",
    "    return source\n",
    "    \n",
    "    \n",
    "\n",
    "def fn_log_write(log,fn,pos=None):\n",
    "    if pos is None:\n",
    "        log.append(fn)\n",
    "    else:\n",
    "        log.append((fn,pos))\n",
    "    return log\n",
    "\n",
    "def auto_fn(src,log):\n",
    "    for kw in log:\n",
    "        if type(kw) is tuple:\n",
    "            src = kw_fn(kw[0],src,kw[1])\n",
    "        else:\n",
    "            src = kw_fn(kw,src)            \n",
    "    return src\n",
    "\n",
    "def kw_fn(kw,src,pos=None,log=None):\n",
    "    if kw==ord('0'):\n",
    "        src = n_under0(src,pos)\n",
    "    elif kw==ord('t'):\n",
    "        src = stretching(src,pos)\n",
    "    elif kw==ord('g'):\n",
    "        src = gaussian(src)\n",
    "    elif kw==ord('1'):\n",
    "        src = sharpening1(src)\n",
    "    elif kw==ord('2'):\n",
    "        src = sharpening2(src)\n",
    "    elif kw==ord('d'):\n",
    "        src = div(src,pos)\n",
    "    elif kw==ord('u'):\n",
    "        src = value_up(src,pos)\n",
    "\n",
    "    if log is None:\n",
    "        return src\n",
    "    else:\n",
    "        log = fn_log_write(log,kw,pos)\n",
    "        return src, log\n",
    "    \n",
    "def iskw(kw):\n",
    "    kw_fn_list =[\n",
    "        ord('0'),ord('t'),ord('g'),ord('1'),ord('2'),ord('d'),ord('u')\n",
    "    ]\n",
    "    if kw in kw_fn_list:\n",
    "        return True\n",
    "    else:\n",
    "        return False\n",
    "        \n",
    "def jet(gray_img):\n",
    "    r,c = gray_img.shape\n",
    "    img_hsv = np.full((r,c,3),(130,255,255),dtype=np.uint8)\n",
    "    hue = img_hsv[:,:,0]\n",
    "    hue -= (gray_img.copy()/2).astype(np.uint8)\n",
    "    img_bgr = cv2.cvtColor(img_hsv, cv2.COLOR_HSV2BGR_FULL)\n",
    "    return img_bgr\n",
    "\n",
    "def getGrayHistImage(hist):\n",
    "    imgHist = np.full((200, 256), 255, dtype=np.uint8)\n",
    "\n",
    "    histMax = np.max(hist)\n",
    "    if histMax==0:\n",
    "        histMax=1\n",
    "    for x in range(256):\n",
    "        pt1 = (x, 200)\n",
    "        pt2 = (x, 200 - int(hist[x, 0] * 200 / histMax))\n",
    "        cv2.line(imgHist, pt1, pt2, 0)\n",
    "\n",
    "    return imgHist\n",
    "\n",
    "def cqt_load(src,idx):\n",
    "    div2_l = 250\n",
    "    _, length = src.shape\n",
    "    print(length)\n",
    "    print(div2_l*(idx-1),div2_l*(idx+1))\n",
    "    if length < div2_l*2:\n",
    "        result = src.copy()\n",
    "    elif div2_l*(idx-1) > length:\n",
    "        result = src[:,length-(div2_l*2):length].copy()\n",
    "    elif div2_l*(idx+1) > length:\n",
    "        result = src[:,div2_l*(idx-1):length].copy()        \n",
    "    else:\n",
    "        result = src[:,div2_l*(idx-1):div2_l*(idx+1)].copy()        \n",
    "    return result\n",
    "    \n"
   ]
  },
  {
   "cell_type": "code",
   "execution_count": 16,
   "metadata": {},
   "outputs": [
    {
     "name": "stdout",
     "output_type": "stream",
     "text": [
      "6690\n",
      "0 500\n",
      "29 div_fn\n",
      "29 under 0\n"
     ]
    },
    {
     "name": "stderr",
     "output_type": "stream",
     "text": [
      "C:\\Users\\suo24\\AppData\\Local\\Temp\\ipykernel_9008\\1356375635.py:112: RuntimeWarning: invalid value encountered in double_scalars\n",
      "  pt2 = (x, 200 - int(hist[x, 0] * 200 / histMax))\n"
     ]
    },
    {
     "ename": "ValueError",
     "evalue": "cannot convert float NaN to integer",
     "output_type": "error",
     "traceback": [
      "\u001b[1;31m---------------------------------------------------------------------------\u001b[0m",
      "\u001b[1;31mValueError\u001b[0m                                Traceback (most recent call last)",
      "\u001b[1;32mc:\\Users\\suo24\\Desktop\\Projects\\AI_Training\\music_analysis\\image_processing.ipynb Cell 7'\u001b[0m in \u001b[0;36m<cell line: 12>\u001b[1;34m()\u001b[0m\n\u001b[0;32m     <a href='vscode-notebook-cell:/c%3A/Users/suo24/Desktop/Projects/AI_Training/music_analysis/image_processing.ipynb#ch0000010?line=10'>11</a>\u001b[0m \u001b[39mwhile\u001b[39;00m \u001b[39mTrue\u001b[39;00m:\n\u001b[0;32m     <a href='vscode-notebook-cell:/c%3A/Users/suo24/Desktop/Projects/AI_Training/music_analysis/image_processing.ipynb#ch0000010?line=11'>12</a>\u001b[0m     hist \u001b[39m=\u001b[39m cv2\u001b[39m.\u001b[39mcalcHist([crop], [\u001b[39m0\u001b[39m], \u001b[39mNone\u001b[39;00m, [\u001b[39m256\u001b[39m], [\u001b[39m1\u001b[39m, \u001b[39m257\u001b[39m])\n\u001b[1;32m---> <a href='vscode-notebook-cell:/c%3A/Users/suo24/Desktop/Projects/AI_Training/music_analysis/image_processing.ipynb#ch0000010?line=12'>13</a>\u001b[0m     histImg \u001b[39m=\u001b[39m getGrayHistImage(hist)\n\u001b[0;32m     <a href='vscode-notebook-cell:/c%3A/Users/suo24/Desktop/Projects/AI_Training/music_analysis/image_processing.ipynb#ch0000010?line=13'>14</a>\u001b[0m     img_bgr \u001b[39m=\u001b[39m jet(crop)\n\u001b[0;32m     <a href='vscode-notebook-cell:/c%3A/Users/suo24/Desktop/Projects/AI_Training/music_analysis/image_processing.ipynb#ch0000010?line=14'>15</a>\u001b[0m     cv2\u001b[39m.\u001b[39mimshow(\u001b[39m'\u001b[39m\u001b[39mspectrum\u001b[39m\u001b[39m'\u001b[39m, img_bgr)\n",
      "\u001b[1;32mc:\\Users\\suo24\\Desktop\\Projects\\AI_Training\\music_analysis\\image_processing.ipynb Cell 6'\u001b[0m in \u001b[0;36mgetGrayHistImage\u001b[1;34m(hist)\u001b[0m\n\u001b[0;32m    <a href='vscode-notebook-cell:/c%3A/Users/suo24/Desktop/Projects/AI_Training/music_analysis/image_processing.ipynb#ch0000005?line=109'>110</a>\u001b[0m \u001b[39mfor\u001b[39;00m x \u001b[39min\u001b[39;00m \u001b[39mrange\u001b[39m(\u001b[39m256\u001b[39m):\n\u001b[0;32m    <a href='vscode-notebook-cell:/c%3A/Users/suo24/Desktop/Projects/AI_Training/music_analysis/image_processing.ipynb#ch0000005?line=110'>111</a>\u001b[0m     pt1 \u001b[39m=\u001b[39m (x, \u001b[39m200\u001b[39m)\n\u001b[1;32m--> <a href='vscode-notebook-cell:/c%3A/Users/suo24/Desktop/Projects/AI_Training/music_analysis/image_processing.ipynb#ch0000005?line=111'>112</a>\u001b[0m     pt2 \u001b[39m=\u001b[39m (x, \u001b[39m200\u001b[39m \u001b[39m-\u001b[39m \u001b[39mint\u001b[39;49m(hist[x, \u001b[39m0\u001b[39;49m] \u001b[39m*\u001b[39;49m \u001b[39m200\u001b[39;49m \u001b[39m/\u001b[39;49m histMax))\n\u001b[0;32m    <a href='vscode-notebook-cell:/c%3A/Users/suo24/Desktop/Projects/AI_Training/music_analysis/image_processing.ipynb#ch0000005?line=112'>113</a>\u001b[0m     cv2\u001b[39m.\u001b[39mline(imgHist, pt1, pt2, \u001b[39m0\u001b[39m)\n\u001b[0;32m    <a href='vscode-notebook-cell:/c%3A/Users/suo24/Desktop/Projects/AI_Training/music_analysis/image_processing.ipynb#ch0000005?line=114'>115</a>\u001b[0m \u001b[39mreturn\u001b[39;00m imgHist\n",
      "\u001b[1;31mValueError\u001b[0m: cannot convert float NaN to integer"
     ]
    }
   ],
   "source": [
    "src = c_compression\n",
    "\n",
    "cv2.namedWindow('spectrum', cv2.WINDOW_NORMAL)\n",
    "cv2.createTrackbar('base_level','spectrum',0,255,nothing)\n",
    "\n",
    "tmp = []\n",
    "fn_log = []\n",
    "idx = 1\n",
    "crop = cqt_load(src,idx)\n",
    "kw = 0\n",
    "while True:\n",
    "    hist = cv2.calcHist([crop], [0], None, [256], [1, 257])\n",
    "    histImg = getGrayHistImage(hist)\n",
    "    img_bgr = jet(crop)\n",
    "    cv2.imshow('spectrum', img_bgr)\n",
    "    cv2.imshow('histogram', histImg)\n",
    "    \n",
    "    kw=cv2.waitKey()\n",
    "    pos = cv2.getTrackbarPos('base_level','spectrum')\n",
    "    \n",
    "    if kw==27:\n",
    "        break\n",
    "    elif kw==ord('z'):\n",
    "        if fn_log==[]:\n",
    "            crop = src.copy()            \n",
    "            print('이전 작업이 없습니다.')           \n",
    "        else:\n",
    "            crop = tmp.pop()\n",
    "            fn_log.pop()\n",
    "            print('실행취소',len(tmp))\n",
    "    elif kw==ord('r'):\n",
    "        crop = cqt_load(src,idx)\n",
    "        tmp = []\n",
    "        fn_log = []\n",
    "        print()\n",
    "        print('-'*10)\n",
    "        print(\"Reset\")\n",
    "        print('-'*10)\n",
    "        print()\n",
    "    elif iskw(kw):\n",
    "        crop, fn_log = kw_fn(kw,crop,pos,fn_log)\n",
    "    elif kw==ord('a'):\n",
    "        print(\"auto repeat start\")\n",
    "        if fn_log==[]:\n",
    "            continue\n",
    "        else:\n",
    "            crop = auto_fn(crop,fn_log)\n",
    "        print(\"auto repeat end\")\n",
    "    elif kw==ord('n'):\n",
    "        idx +=1\n",
    "        if 250*(idx+1) > src.shape[1]:\n",
    "            idx -=1\n",
    "            print('end index')\n",
    "        crop = cqt_load(src,idx)\n",
    "    elif kw==ord('b'):\n",
    "        idx -=1\n",
    "        if idx < 1:\n",
    "            idx = 1\n",
    "        crop = cqt_load(src,idx)\n",
    "    elif kw==ord('s'):\n",
    "        frames = beat_frames[(250*(idx-1)<beat_frames)&(beat_frames<250*(idx+1))]-(250*(idx-1))\n",
    "        beat_times = librosa.frames_to_time(frames, sr=sr)\n",
    "        notes = ['C','C#','D','D#','E','F','F#','G','G#','A','A#','B']\n",
    "        y_ticks = np.arange(0,12*freq_w*octave,freq_w)\n",
    "        y_list=[]\n",
    "\n",
    "        for o in range(octave):\n",
    "            for i in range(12):\n",
    "                y_list.append(notes[i]+'%d'%(o+1))\n",
    "\n",
    "        plt.style.use('default')\n",
    "        fig, ax = plt.subplots(1,1,figsize=(15,10))\n",
    "        img = librosa.display.specshow(crop, sr=sr, x_axis='time', ax=ax, hop_length= hop_len, bins_per_octave= 12*freq_w,\n",
    "                                    cmap='jet'\n",
    "                                    )\n",
    "        ax.set(title=filename+str(idx))\n",
    "        ax.set_yticks(y_ticks)\n",
    "        ax.set_yticklabels(y_list)\n",
    "        \n",
    "\n",
    "        \n",
    "        for i in beat_times:\n",
    "            ax.axvline(i,c='k')\n",
    "        for i in np.arange(0,12*freq_w*octave,freq_w*12):\n",
    "            ax.axhline(i,c='k')\n",
    "        plt.savefig('./output/'+filename.split('.')[0]+str(idx))\n",
    "        print(filename.split('.')[0]+str(idx),'save complete')\n",
    "        plt.show()\n",
    "    \n",
    "    else:\n",
    "        continue\n",
    "        \n",
    "    tmp.append(crop.copy())\n",
    "    \n",
    "        \n",
    "\n",
    "cv2.destroyAllWindows()"
   ]
  },
  {
   "cell_type": "code",
   "execution_count": null,
   "metadata": {},
   "outputs": [],
   "source": []
  }
 ],
 "metadata": {
  "interpreter": {
   "hash": "6eedcdad1dd879e8d32c2300ceddefaddf12f08d76166a315be463aad8107c0d"
  },
  "kernelspec": {
   "display_name": "Python 3.9.12 ('MA')",
   "language": "python",
   "name": "python3"
  },
  "language_info": {
   "codemirror_mode": {
    "name": "ipython",
    "version": 3
   },
   "file_extension": ".py",
   "mimetype": "text/x-python",
   "name": "python",
   "nbconvert_exporter": "python",
   "pygments_lexer": "ipython3",
   "version": "3.9.12"
  },
  "orig_nbformat": 4
 },
 "nbformat": 4,
 "nbformat_minor": 2
}
