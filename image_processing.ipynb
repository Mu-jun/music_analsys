{
 "cells": [
  {
   "cell_type": "code",
   "execution_count": 1,
   "metadata": {},
   "outputs": [
    {
     "data": {
      "text/plain": [
       "'4.5.5'"
      ]
     },
     "execution_count": 1,
     "metadata": {},
     "output_type": "execute_result"
    }
   ],
   "source": [
    "import librosa\n",
    "import librosa.display\n",
    "\n",
    "import cv2\n",
    "import os\n",
    "\n",
    "import numpy as np\n",
    "import matplotlib.pyplot as plt\n",
    "\n",
    "import soundfile as sf\n",
    "cv2.__version__"
   ]
  },
  {
   "cell_type": "code",
   "execution_count": 2,
   "metadata": {},
   "outputs": [
    {
     "name": "stdout",
     "output_type": "stream",
     "text": [
      "(6849536,) 44100\n"
     ]
    }
   ],
   "source": [
    "\n",
    "filename = 'Tears_of_a_witch_SFA.wav'\n",
    "y,sr = librosa.load(filename,sr=None)\n",
    "print(y.shape, sr)"
   ]
  },
  {
   "cell_type": "markdown",
   "metadata": {},
   "source": [
    "filename = 'cqt.npz'\n",
    "C = np.load(filename)['spec']\n",
    "sr = 44100\n",
    "print(C.shape, sr)"
   ]
  },
  {
   "cell_type": "code",
   "execution_count": 3,
   "metadata": {},
   "outputs": [
    {
     "name": "stdout",
     "output_type": "stream",
     "text": [
      "Estimated tempo: 120.19 beats per minute\n"
     ]
    }
   ],
   "source": [
    "onset_env = librosa.onset.onset_strength(y=y, sr=sr)\n",
    "\n",
    "# Run the default beat tracker\n",
    "tempo, beat_frames = librosa.beat.beat_track(y=y, sr=sr)\n",
    "print('Estimated tempo: {:.2f} beats per minute'.format(tempo))\n",
    "\n",
    "# dynamic tempo\n",
    "dtempo = librosa.beat.tempo(onset_envelope=onset_env, sr=sr,\n",
    "                            aggregate=None)\n",
    "\n",
    "beat_times = librosa.frames_to_time(beat_frames, sr=sr)"
   ]
  },
  {
   "cell_type": "code",
   "execution_count": 4,
   "metadata": {},
   "outputs": [
    {
     "name": "stdout",
     "output_type": "stream",
     "text": [
      "155.31827664399094\n"
     ]
    },
    {
     "data": {
      "text/plain": [
       "149.8964172335601"
      ]
     },
     "execution_count": 4,
     "metadata": {},
     "output_type": "execute_result"
    }
   ],
   "source": [
    "print(y.shape[0]/sr)\n",
    "beat_times[-1]"
   ]
  },
  {
   "cell_type": "code",
   "execution_count": 5,
   "metadata": {},
   "outputs": [],
   "source": [
    "# 고조파 타악기 소스 분리(HPSS)\n",
    "stft = librosa.stft(y)\n",
    "harmonic, percussive = librosa.decompose.hpss(stft)\n",
    "y = librosa.istft(harmonic)"
   ]
  },
  {
   "cell_type": "code",
   "execution_count": 6,
   "metadata": {},
   "outputs": [
    {
     "name": "stdout",
     "output_type": "stream",
     "text": [
      "(1025, 13379)\n",
      "(-256.57904+53.71582j) (268.1164-19.037182j)\n"
     ]
    }
   ],
   "source": [
    "print(stft.shape)\n",
    "print(stft.min(),stft.max())"
   ]
  },
  {
   "cell_type": "code",
   "execution_count": 7,
   "metadata": {},
   "outputs": [],
   "source": [
    "hop_len = 2048\n",
    "freq_w = 3\n",
    "octave = 7\n",
    "\n",
    "C = librosa.cqt(y, sr=sr, hop_length= hop_len, n_bins= 12*freq_w*octave, bins_per_octave= 12*freq_w)"
   ]
  },
  {
   "cell_type": "code",
   "execution_count": 8,
   "metadata": {},
   "outputs": [
    {
     "name": "stdout",
     "output_type": "stream",
     "text": [
      "0.046439909297052155\n",
      "(252, 3345)\n",
      "(-15.710788-5.482887j) (15.536943-6.0659804j)\n"
     ]
    }
   ],
   "source": [
    "sec = hop_len/sr\n",
    "print(sec)\n",
    "print(C.shape)\n",
    "print(C.min(),C.max())"
   ]
  },
  {
   "cell_type": "code",
   "execution_count": 9,
   "metadata": {},
   "outputs": [
    {
     "name": "stdout",
     "output_type": "stream",
     "text": [
      "127 255\n"
     ]
    }
   ],
   "source": [
    "c_src = np.abs(C)\n",
    "c_max = np.abs(C).max()\n",
    "c_src = ((c_src+c_max)/(c_max*2)*255).astype(np.uint8)\n",
    "print(c_src.min(),c_src.max())"
   ]
  },
  {
   "cell_type": "code",
   "execution_count": 10,
   "metadata": {},
   "outputs": [],
   "source": [
    "C_db = librosa.amplitude_to_db(np.abs(C),ref=np.max)+80"
   ]
  },
  {
   "cell_type": "code",
   "execution_count": 11,
   "metadata": {},
   "outputs": [
    {
     "name": "stdout",
     "output_type": "stream",
     "text": [
      "(252, 3345)\n",
      "0.0 80.0\n"
     ]
    }
   ],
   "source": [
    "print(C_db.shape)\n",
    "print(C_db.min(), C_db.max())"
   ]
  },
  {
   "cell_type": "code",
   "execution_count": 12,
   "metadata": {},
   "outputs": [
    {
     "name": "stdout",
     "output_type": "stream",
     "text": [
      "0 255\n"
     ]
    }
   ],
   "source": [
    "c_db_src = (C_db/80*255).astype(np.uint8)\n",
    "print(c_db_src.min(),c_db_src.max())"
   ]
  },
  {
   "cell_type": "code",
   "execution_count": 13,
   "metadata": {},
   "outputs": [],
   "source": [
    "gaussian_mask = np.array([[1/16,1/8,1/16], [1/8,1/4,1/8], [1/16,1/8,1/16]])\n",
    "sharpening_mask1 = np.array([[-1, -1, -1], [-1, 9, -1], [-1, -1, -1]])\n",
    "sharpening_mask2 = np.array([[0, -1, 0], [-1, 5, -1], [0, -1, 0]])"
   ]
  },
  {
   "cell_type": "code",
   "execution_count": 14,
   "metadata": {},
   "outputs": [],
   "source": [
    "def nothing(pos):\n",
    "    pass\n",
    "\n",
    "def working():\n",
    "    cv2.destroyAllWindows()\n",
    "    raise NotImplementedError    \n",
    "\n",
    "def trace(func):\n",
    "    def wrapper():\n",
    "        print(func.__name__, \"시작\")\n",
    "        func()\n",
    "        print(func.__name__, \"끝\")\n",
    "    return wrapper\n",
    "\n",
    "def imgclip(src):\n",
    "    result = np.clip(src,0,255).astype(np.uint8)\n",
    "    return result\n",
    "\n",
    "@trace\n",
    "def gaussian(source):\n",
    "    # gaussian_mask = np.array([[1/16,1/8,1/16], [1/8,1/4,1/8], [1/16,1/8,1/16]])\n",
    "    # result = cv2.filter2D(source,-1,gaussian_mask)\n",
    "    result = cv2.GaussianBlur(source, (0,0), 1)\n",
    "    print(\"Gaussian filter\")\n",
    "    return result\n",
    "\n",
    "@trace\n",
    "def sharpening1(source):\n",
    "    sharpening_mask1 = np.array([[-1, -1, -1], [-1, 9, -1], [-1, -1, -1]])\n",
    "    result = cv2.filter2D(source,-1,sharpening_mask1)\n",
    "    result = imgclip(result)\n",
    "    print(\"8 connected sharpening\")\n",
    "    return result\n",
    "\n",
    "@trace\n",
    "def sharpening2(source):\n",
    "    sharpening_mask2 = np.array([[0, -1, 0], [-1, 5, -1], [0, -1, 0]])\n",
    "    result = cv2.filter2D(source,-1,sharpening_mask2)\n",
    "    result = imgclip(result)\n",
    "    return result\n",
    "\n",
    "@trace\n",
    "def stretching(source,pos):\n",
    "    i_min = pos\n",
    "    i_max = source.max()\n",
    "    source = imgclip(source.astype(np.int16)-i_min)\n",
    "    result = (255/(i_max-i_min)*(source))\n",
    "    result = imgclip(result)\n",
    "    print(\"{}~{} stretcing\".format(i_min,i_max))\n",
    "    return result\n",
    "\n",
    "@trace\n",
    "def n_under0(source, pos):\n",
    "    source[source<=pos]=0\n",
    "    print(\"%d under 0\"%pos)\n",
    "    return source\n",
    "\n",
    "@trace\n",
    "def div(source, pos):\n",
    "    source = (source*(pos/100))\n",
    "    source = imgclip(source)\n",
    "    print(\"%.2f div_fn\"%(pos/100))\n",
    "    return source\n",
    "\n",
    "@trace\n",
    "def value_up(source, pos):\n",
    "    h,w = source.shape[:2]\n",
    "    a = np.ones((h,w),np.uint8)*pos\n",
    "    source = cv2.add(source,a)\n",
    "    print(\"up shift %d\"%pos)\n",
    "    return source\n",
    "    \n",
    "@trace\n",
    "def erosion(src):\n",
    "    kernel = np.ones((3,3),np.uint8)\n",
    "    result = cv2.erode(src,kernel)\n",
    "    return result\n",
    "\n",
    "@trace\n",
    "def dilation(src):\n",
    "    kernel = np.ones((3,3),np.uint8)\n",
    "    result = cv2.dilate(src,kernel)\n",
    "    return result\n",
    "\n",
    "@trace\n",
    "def equalize(src):\n",
    "    result = cv2.equalizeHist(src)\n",
    "    return result\n",
    "\n",
    "\n",
    "def fn_log_write(log,fn,pos=None):\n",
    "    if pos is None:\n",
    "        log.append(fn)\n",
    "    else:\n",
    "        log.append((fn,pos))\n",
    "    return log\n",
    "\n",
    "def auto_fn(src,log):\n",
    "    for kw in log:\n",
    "        if type(kw) is tuple:\n",
    "            src = kw_fn(kw[0],src,kw[1])\n",
    "        else:\n",
    "            src = kw_fn(kw,src)            \n",
    "    return src\n",
    "\n",
    "\n",
    "def kw_fn(kw,src,pos=None,log=None):\n",
    "    if kw==ord('0'):\n",
    "        src = n_under0(src,pos)\n",
    "    elif kw==ord('t'):\n",
    "        src = stretching(src,pos)\n",
    "    elif kw==ord('g'):\n",
    "        src = gaussian(src)\n",
    "    elif kw==ord('1'):\n",
    "        src = erosion(src)\n",
    "    elif kw==ord('2'):\n",
    "        src = dilation(src)\n",
    "    elif kw==ord('d'):\n",
    "        src = div(src,pos)\n",
    "    elif kw==ord('u'):\n",
    "        src = value_up(src,pos)\n",
    "    elif kw==ord('e'):\n",
    "        src = equalize(src)\n",
    "        \n",
    "    if log is None:\n",
    "        return src\n",
    "    else:\n",
    "        log = fn_log_write(log,kw,pos)\n",
    "        return src, log\n",
    "    \n",
    "def iskw(kw):\n",
    "    kw_fn_list =[\n",
    "        ord('0'),ord('t'),ord('g'),ord('1'),ord('2'),ord('d'),ord('u'),ord('e')\n",
    "    ]\n",
    "    if kw in kw_fn_list:\n",
    "        return True\n",
    "    else:\n",
    "        return False\n",
    "        \n",
    "def jet(gray_img):\n",
    "    r,c = gray_img.shape\n",
    "    img_hsv = np.full((r,c,3),(130,255,255),dtype=np.uint8)\n",
    "    hue = img_hsv[:,:,0]\n",
    "    hue -= (gray_img.copy()/2).astype(np.uint8)\n",
    "    img_bgr = cv2.cvtColor(img_hsv, cv2.COLOR_HSV2BGR_FULL)\n",
    "    return img_bgr\n",
    "\n",
    "def getGrayHistImage(hist):\n",
    "    imgHist = np.full((200, 256), 255, dtype=np.uint8)\n",
    "\n",
    "    histMax = np.max(hist)\n",
    "    if histMax==0:\n",
    "        histMax=1\n",
    "    for x in range(256):\n",
    "        pt1 = (x, 200)\n",
    "        pt2 = (x, 200 - int(hist[x, 0] * 200 / histMax))\n",
    "        cv2.line(imgHist, pt1, pt2, 0)\n",
    "\n",
    "    return imgHist\n",
    "\n",
    "def mk_sec_idxlist(src,sec,sr=44100,hop_length=512,):\n",
    "    fps = sr/hop_length\n",
    "    idxlist = []\n",
    "    frame = int(sec*fps)\n",
    "    _, length = src.shape\n",
    "    if length < frame:\n",
    "        return [(0,length)]\n",
    "    else:\n",
    "        idx = 0\n",
    "        while True:\n",
    "            if frame*(idx+1) > length:\n",
    "                idxlist.append((frame*idx,length))\n",
    "                break\n",
    "            else:\n",
    "                idxlist.append((frame*idx,frame*(idx+1)))\n",
    "                idx += 1\n",
    "            \n",
    "        return idxlist\n",
    "\n",
    "def cqt_load(src,idx):\n",
    "    print(idx[0],idx[1])\n",
    "    result = src[:,idx[0]:idx[1]].copy()\n",
    "    return result\n",
    "\n",
    "# def mkmask(src,idx,sec):\n",
    "    "
   ]
  },
  {
   "cell_type": "code",
   "execution_count": null,
   "metadata": {},
   "outputs": [],
   "source": [
    "def mouse_eraser(event, x,y, flags, params):\n",
    "    global crop\n",
    "    pos = cv2.getTrackbarPos('base_level','spectrum')\n",
    "    \n",
    "    if event==cv2.EVENT_MOUSEMOVE:\n",
    "        canvas = cv2.flip(crop, 0)\n",
    "        cv2.circle(canvas,(x,y),pos//25,255,2,cv2.LINE_AA)\n",
    "        img_bgr = jet(canvas)\n",
    "        cv2.imshow(\"spectrum\", img_bgr)\n",
    "        \n",
    "    if flags & cv2.EVENT_FLAG_LBUTTON:\n",
    "        canvas = cv2.flip(crop, 0)\n",
    "        cv2.circle(canvas,(x,y),pos//25,0,-1,cv2.LINE_AA)\n",
    "        img_bgr = jet(canvas)\n",
    "        cv2.imshow(\"spectrum\", img_bgr)\n",
    "        crop = cv2.flip(canvas, 0)\n",
    "\n",
    "src = c_src.copy()\n",
    "\n",
    "cv2.namedWindow('spectrum', cv2.WINDOW_NORMAL)\n",
    "cv2.createTrackbar('base_level','spectrum',0,255,nothing)\n",
    "cv2.setMouseCallback('spectrum', mouse_eraser)\n",
    "\n",
    "global crop\n",
    "\n",
    "fn_log = []\n",
    "idx = 0\n",
    "sec = 10\n",
    "magin = 0\n",
    "\n",
    "idxlist = mk_sec_idxlist(src,sec,sr=sr,hop_length=hop_len)\n",
    "crop = cqt_load(src,idxlist[idx])\n",
    "\n",
    "while True:\n",
    "    hist = cv2.calcHist([crop], [0], None, [256], [1, 257])\n",
    "    histImg = getGrayHistImage(hist)\n",
    "    cv2.imshow('histogram', histImg)\n",
    "    \n",
    "    img_bgr = cv2.flip(jet(crop),0)\n",
    "    cv2.imshow('spectrum', img_bgr)\n",
    "        \n",
    "    kw=cv2.waitKey()\n",
    "    pos = cv2.getTrackbarPos('base_level','spectrum')\n",
    "    \n",
    "    if kw==27:\n",
    "        break\n",
    "    elif kw==ord('r'):\n",
    "        crop = cqt_load(src,idxlist[idx])\n",
    "        fn_log.clear()\n",
    "        print()\n",
    "        print('-'*10)\n",
    "        print(\"Reset\")\n",
    "        print('-'*10)\n",
    "        print()\n",
    "    elif kw==ord('z'):\n",
    "        if fn_log == []:\n",
    "            print(\"nothing log\")\n",
    "        else:\n",
    "            fn_log.pop()\n",
    "            crop = cqt_load(src,idxlist[idx])\n",
    "            crop = auto_fn(crop,fn_log)\n",
    "    elif iskw(kw):\n",
    "        crop, fn_log = kw_fn(kw,crop,pos,fn_log)\n",
    "    elif kw==ord('a'):\n",
    "        print(\"auto repeat start\")\n",
    "        if fn_log==[]:\n",
    "            print('nothing log')\n",
    "        else:\n",
    "            crop = auto_fn(crop,fn_log)\n",
    "        print(\"auto repeat end\")\n",
    "    elif kw==ord('n'):\n",
    "        idx +=1\n",
    "        if idx >= len(idxlist):\n",
    "            idx -=1\n",
    "            print('end index')\n",
    "        crop = cqt_load(src,idxlist[idx])\n",
    "    elif kw==ord('b'):\n",
    "        idx -=1\n",
    "        if idx < 0:\n",
    "            idx = 0\n",
    "            print('start index')\n",
    "        crop = cqt_load(src,idxlist[idx])\n",
    "    elif kw==ord('s'):\n",
    "        beat_time_list = beat_times[(sec*idx < beat_times)&(beat_times < sec*(idx+1))] - sec*idx\n",
    "        notes = ['C','C#','D','D#','E','F','F#','G','G#','A','A#','B']\n",
    "        y_ticks = np.arange(0,12*freq_w*octave,freq_w)\n",
    "        y_list=[]\n",
    "\n",
    "        for o in range(octave):\n",
    "            for i in range(12):\n",
    "                y_list.append(notes[i]+'%d'%(o+1))\n",
    "\n",
    "        plt.style.use('default')\n",
    "        fig, ax = plt.subplots(1,1,figsize=(15,10))\n",
    "        img = librosa.display.specshow(crop, sr=sr, x_axis='time', ax=ax, hop_length= hop_len, bins_per_octave= 12*freq_w,\n",
    "                                    cmap='jet'\n",
    "                                    )\n",
    "        ax.set(title=filename+str(idx))\n",
    "        ax.set_yticks(y_ticks)\n",
    "        ax.set_yticklabels(y_list)\n",
    "        \n",
    "        for i,v in zip(range(len(beat_time_list)),beat_time_list):\n",
    "            if i % 4==0:\n",
    "                ax.axvline(v,c='white')\n",
    "            else:\n",
    "                ax.axvline(v,c='k')\n",
    "                \n",
    "        for i in np.arange(0,12*freq_w*octave,freq_w):\n",
    "            if i % (freq_w*12) ==0:\n",
    "                ax.axhline(i,c='g')\n",
    "            elif i % (freq_w*2) ==0:\n",
    "                ax.axhline(i,c='k')\n",
    "            else:\n",
    "                ax.axhline(i,c='white')\n",
    "            \n",
    "        plt.savefig('./output/'+filename.split('.')[0]+str(idx))\n",
    "        print(filename.split('.')[0]+str(idx),'save complete')\n",
    "        plt.show()\n",
    "        \n",
    "        src[:,idxlist[idx][0]:idxlist[idx][1]] = crop.copy()\n",
    "    \n",
    "    else:\n",
    "        continue\n",
    "            \n",
    "\n",
    "cv2.destroyAllWindows();"
   ]
  },
  {
   "cell_type": "code",
   "execution_count": 16,
   "metadata": {},
   "outputs": [
    {
     "name": "stdout",
     "output_type": "stream",
     "text": [
      "(252, 3345)\n",
      "1 1\n"
     ]
    }
   ],
   "source": [
    "# c_signed = np.where(C!=0,C/np.abs(C),0.)\n",
    "_, mask = cv2.threshold(src,50,1, cv2.THRESH_BINARY)\n",
    "print(mask.shape)\n",
    "print(mask.min(),mask.max())"
   ]
  },
  {
   "cell_type": "code",
   "execution_count": 17,
   "metadata": {},
   "outputs": [
    {
     "name": "stdout",
     "output_type": "stream",
     "text": [
      "(252, 3345)\n",
      "(-15.710788-5.482887j) (15.536943-6.0659804j)\n"
     ]
    }
   ],
   "source": [
    "icqt_src = np.where(mask,C,0.)\n",
    "print(icqt_src.shape)\n",
    "print(icqt_src.min(),icqt_src.max())"
   ]
  },
  {
   "cell_type": "code",
   "execution_count": 18,
   "metadata": {},
   "outputs": [],
   "source": [
    "y = librosa.icqt(C= icqt_src, sr= sr, hop_length= hop_len, bins_per_octave= freq_w*12)\n",
    "sf.write('./output/icqt.wav',y,sr,\"PCM_24\")"
   ]
  },
  {
   "cell_type": "code",
   "execution_count": null,
   "metadata": {},
   "outputs": [],
   "source": []
  }
 ],
 "metadata": {
  "interpreter": {
   "hash": "c9c5be06856482a00280bb2577ae5696fe45b60950567c0dbf52aa7199347797"
  },
  "kernelspec": {
   "display_name": "Python 3.9.12 ('MA')",
   "language": "python",
   "name": "python3"
  },
  "language_info": {
   "codemirror_mode": {
    "name": "ipython",
    "version": 3
   },
   "file_extension": ".py",
   "mimetype": "text/x-python",
   "name": "python",
   "nbconvert_exporter": "python",
   "pygments_lexer": "ipython3",
   "version": "3.9.12"
  },
  "orig_nbformat": 4
 },
 "nbformat": 4,
 "nbformat_minor": 2
}
