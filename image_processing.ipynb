{
 "cells": [
  {
   "cell_type": "code",
   "execution_count": 1,
   "metadata": {},
   "outputs": [
    {
     "data": {
      "text/plain": [
       "'4.5.5'"
      ]
     },
     "execution_count": 1,
     "metadata": {},
     "output_type": "execute_result"
    }
   ],
   "source": [
    "import librosa\n",
    "import librosa.display\n",
    "\n",
    "import cv2\n",
    "import os\n",
    "\n",
    "import numpy as np\n",
    "import matplotlib.pyplot as plt\n",
    "cv2.__version__"
   ]
  },
  {
   "cell_type": "code",
   "execution_count": 2,
   "metadata": {},
   "outputs": [
    {
     "data": {
      "text/plain": [
       "(441000,)"
      ]
     },
     "execution_count": 2,
     "metadata": {},
     "output_type": "execute_result"
    }
   ],
   "source": [
    "filename = 'test.npz'\n",
    "y = np.load('test.npz')['sig']\n",
    "sr = 44100\n",
    "y.shape"
   ]
  },
  {
   "cell_type": "code",
   "execution_count": 3,
   "metadata": {},
   "outputs": [
    {
     "name": "stdout",
     "output_type": "stream",
     "text": [
      "Estimated tempo: 79.51 beats per minute\n"
     ]
    }
   ],
   "source": [
    "onset_env = librosa.onset.onset_strength(y=y, sr=sr)\n",
    "\n",
    "# Run the default beat tracker\n",
    "tempo, beat_frames = librosa.beat.beat_track(y=y, sr=sr)\n",
    "print('Estimated tempo: {:.2f} beats per minute'.format(tempo))\n",
    "\n",
    "# dynamic tempo\n",
    "dtempo = librosa.beat.tempo(onset_envelope=onset_env, sr=sr,\n",
    "                            aggregate=None)\n",
    "\n",
    "# Convert the frame indices of beat events into timestamps\n",
    "beat_times = librosa.frames_to_time(beat_frames, sr=sr)"
   ]
  },
  {
   "cell_type": "code",
   "execution_count": 4,
   "metadata": {},
   "outputs": [
    {
     "name": "stdout",
     "output_type": "stream",
     "text": [
      "(252, 862)\n",
      "0 255\n"
     ]
    }
   ],
   "source": [
    "hop_len = 512\n",
    "freq_w = 3\n",
    "octave = 7\n",
    "\n",
    "C = librosa.cqt(y, sr=sr, hop_length= hop_len, n_bins= 12*freq_w*octave, bins_per_octave= 12*freq_w)\n",
    "C_db = librosa.amplitude_to_db(np.abs(C),ref=np.max)+80\n",
    "c_compression = (C_db/80*255).astype(np.uint8)\n",
    "print(C_db.shape)\n",
    "print(c_compression.min(),c_compression.max())"
   ]
  },
  {
   "cell_type": "code",
   "execution_count": 5,
   "metadata": {},
   "outputs": [],
   "source": [
    "gaussian_mask = np.array([[1/16,1/8,1/16], [1/8,1/4,1/8], [1/16,1/8,1/16]])\n",
    "sharpening_mask1 = np.array([[-1, -1, -1], [-1, 9, -1], [-1, -1, -1]])\n",
    "sharpening_mask2 = np.array([[0, -1, 0], [-1, 5, -1], [0, -1, 0]])"
   ]
  },
  {
   "cell_type": "code",
   "execution_count": 11,
   "metadata": {},
   "outputs": [],
   "source": [
    "def nothing(pos):\n",
    "    pass\n",
    "\n",
    "def working():\n",
    "    cv2.destroyAllWindows()\n",
    "    raise NotImplementedError    \n",
    "\n",
    "def gaussian(source):\n",
    "    gaussian_mask = np.array([[1/16,1/8,1/16], [1/8,1/4,1/8], [1/16,1/8,1/16]])\n",
    "    result = cv2.filter2D(source,-1,gaussian_mask)\n",
    "    print(\"Gaussian filter\")\n",
    "    return result\n",
    "\n",
    "def sharpening1(source):\n",
    "    sharpening_mask1 = np.array([[-1, -1, -1], [-1, 9, -1], [-1, -1, -1]])\n",
    "    result = cv2.filter2D(source,-1,sharpening_mask1)\n",
    "    print(\"8 connected sharpening\")\n",
    "    return result\n",
    "\n",
    "def sharpening2(source):\n",
    "    sharpening_mask2 = np.array([[0, -1, 0], [-1, 5, -1], [0, -1, 0]])\n",
    "    result = cv2.filter2D(source,-1,sharpening_mask2)\n",
    "    print(\"4 connected sharpening\")\n",
    "    return result\n",
    "\n",
    "def stretching(source):\n",
    "    i_min = source.min()\n",
    "    i_max = source.max()\n",
    "    result = (255/(i_max-i_min)*(source-i_min)).astype(np.uint8)\n",
    "    print(\"stretching\")\n",
    "    return result\n",
    "\n",
    "def n_under0(source, pos):\n",
    "    source[source<pos]=0\n",
    "    print(\"%d under 0\"%pos)\n",
    "    return source\n",
    "\n",
    "def div(source, pos):\n",
    "    source = (source*(pos/255)).astype(np.uint8)\n",
    "    print(\"%d div_fn\"%pos)\n",
    "    return source\n",
    "\n",
    "def fn_log_write(log,fn,pos=None):\n",
    "    if pos is None:\n",
    "        log.append(fn)\n",
    "    else:\n",
    "        log.append((fn,pos))\n",
    "    return log\n",
    "\n",
    "def auto_fn(src,log):\n",
    "    for kw in log:\n",
    "        if type(kw) is tuple:\n",
    "            src = kw_fn(kw[0],src,kw[1])\n",
    "        else:\n",
    "            src = kw_fn(kw,src)            \n",
    "    return src\n",
    "\n",
    "def kw_fn(kw,src,pos=None,log=None):\n",
    "    if kw==ord('0'):\n",
    "        src = n_under0(src,pos)\n",
    "    elif kw==ord('t'):\n",
    "        src = stretching(src)\n",
    "    elif kw==ord('g'):\n",
    "        src = gaussian(src)\n",
    "    elif kw==ord('1'):\n",
    "        src = sharpening1(src)\n",
    "    elif kw==ord('2'):\n",
    "        src = sharpening2(src)\n",
    "    elif kw==ord('d'):\n",
    "        src = div(src,pos)\n",
    "    elif kw==ord('u'):\n",
    "        h,w = src.shape[:2]\n",
    "        a = np.ones((h,w),np.uint8)*pos\n",
    "        src = cv2.add(src,a)\n",
    "        print(\"up shift %d\"%pos)\n",
    "    \n",
    "    if log is None:\n",
    "        return src\n",
    "    else:\n",
    "        log = fn_log_write(log,kw,pos)\n",
    "        return src, log\n",
    "    \n",
    "def iskw(kw):\n",
    "    kw_fn_list =[\n",
    "        ord('0'),ord('t'),ord('g'),ord('1'),ord('2'),ord('d'),ord('u')\n",
    "    ]\n",
    "    if kw in kw_fn_list:\n",
    "        return True\n",
    "    else:\n",
    "        return False\n",
    "        "
   ]
  },
  {
   "cell_type": "code",
   "execution_count": 10,
   "metadata": {},
   "outputs": [
    {
     "name": "stdout",
     "output_type": "stream",
     "text": [
      "110 under 0\n",
      "<class 'numpy.ndarray'>\n",
      "(252, 862)\n",
      "<class 'numpy.ndarray'> (256, 1)\n",
      "\n",
      "----------\n",
      "Reset\n",
      "----------\n",
      "\n",
      "<class 'numpy.ndarray'>\n",
      "(252, 862)\n",
      "<class 'numpy.ndarray'> (256, 1)\n",
      "125 under 0\n",
      "<class 'numpy.ndarray'>\n",
      "(252, 862)\n",
      "<class 'numpy.ndarray'> (256, 1)\n",
      "139 under 0\n",
      "<class 'numpy.ndarray'>\n",
      "(252, 862)\n",
      "<class 'numpy.ndarray'> (256, 1)\n",
      "Gaussian filter\n",
      "<class 'numpy.ndarray'>\n",
      "(252, 862)\n",
      "<class 'numpy.ndarray'> (256, 1)\n",
      "139 under 0\n",
      "<class 'numpy.ndarray'>\n",
      "(252, 862)\n",
      "<class 'numpy.ndarray'> (256, 1)\n",
      "Gaussian filter\n",
      "<class 'numpy.ndarray'>\n",
      "(252, 862)\n",
      "<class 'numpy.ndarray'> (256, 1)\n",
      "139 under 0\n",
      "<class 'numpy.ndarray'>\n",
      "(252, 862)\n",
      "<class 'numpy.ndarray'> (256, 1)\n",
      "stretching\n",
      "<class 'numpy.ndarray'>\n",
      "(252, 862)\n"
     ]
    },
    {
     "ename": "error",
     "evalue": "OpenCV(4.5.5) D:\\a\\opencv-python\\opencv-python\\opencv\\modules\\imgproc\\src\\histogram.cpp:1007: error: (-210:Unsupported format or combination of formats)  in function 'cv::calcHist'\n",
     "output_type": "error",
     "traceback": [
      "\u001b[1;31m---------------------------------------------------------------------------\u001b[0m",
      "\u001b[1;31merror\u001b[0m                                     Traceback (most recent call last)",
      "\u001b[1;32mc:\\Users\\Mu-jun\\AI_Training\\music_analsys\\image_processing.ipynb Cell 7'\u001b[0m in \u001b[0;36m<cell line: 36>\u001b[1;34m()\u001b[0m\n\u001b[0;32m     <a href='vscode-notebook-cell:/c%3A/Users/Mu-jun/AI_Training/music_analsys/image_processing.ipynb#ch0000006?line=96'>97</a>\u001b[0m \u001b[39mprint\u001b[39m(\u001b[39mtype\u001b[39m(crop))\n\u001b[0;32m     <a href='vscode-notebook-cell:/c%3A/Users/Mu-jun/AI_Training/music_analsys/image_processing.ipynb#ch0000006?line=97'>98</a>\u001b[0m \u001b[39mprint\u001b[39m(crop\u001b[39m.\u001b[39mshape)\n\u001b[1;32m--> <a href='vscode-notebook-cell:/c%3A/Users/Mu-jun/AI_Training/music_analsys/image_processing.ipynb#ch0000006?line=99'>100</a>\u001b[0m hist \u001b[39m=\u001b[39m cv2\u001b[39m.\u001b[39;49mcalcHist([crop], [\u001b[39m0\u001b[39;49m], \u001b[39mNone\u001b[39;49;00m, [\u001b[39m256\u001b[39;49m], [\u001b[39m1\u001b[39;49m, \u001b[39m256\u001b[39;49m])\n\u001b[0;32m    <a href='vscode-notebook-cell:/c%3A/Users/Mu-jun/AI_Training/music_analsys/image_processing.ipynb#ch0000006?line=100'>101</a>\u001b[0m \u001b[39mprint\u001b[39m(\u001b[39mtype\u001b[39m(hist),hist\u001b[39m.\u001b[39mshape)\n\u001b[0;32m    <a href='vscode-notebook-cell:/c%3A/Users/Mu-jun/AI_Training/music_analsys/image_processing.ipynb#ch0000006?line=102'>103</a>\u001b[0m histImg \u001b[39m=\u001b[39m getGrayHistImage(hist)\n",
      "\u001b[1;31merror\u001b[0m: OpenCV(4.5.5) D:\\a\\opencv-python\\opencv-python\\opencv\\modules\\imgproc\\src\\histogram.cpp:1007: error: (-210:Unsupported format or combination of formats)  in function 'cv::calcHist'\n"
     ]
    }
   ],
   "source": [
    "def jet(gray_img):\n",
    "    r,c = gray_img.shape\n",
    "    img_hsv = np.full((r,c,3),(130,255,255),dtype=np.uint8)\n",
    "    hue = img_hsv[:,:,0]\n",
    "    hue -= (gray_img.copy()/2).astype(np.uint8)\n",
    "    img_bgr = cv2.cvtColor(img_hsv, cv2.COLOR_HSV2BGR_FULL)\n",
    "    return img_bgr\n",
    "\n",
    "def getGrayHistImage(hist):\n",
    "    imgHist = np.full((200, 256), 255, dtype=np.uint8)\n",
    "\n",
    "    histMax = np.max(hist)\n",
    "    for x in range(256):\n",
    "        pt1 = (x, 200)\n",
    "        pt2 = (x, 200 - int(hist[x, 0] * 200 / histMax))\n",
    "        cv2.line(imgHist, pt1, pt2, 0)\n",
    "\n",
    "    return imgHist\n",
    "\n",
    "\n",
    "\n",
    "src = c_compression\n",
    "\n",
    "cv2.namedWindow('spectrum', cv2.WINDOW_NORMAL)\n",
    "cv2.createTrackbar('base_level','spectrum',0,255,nothing)\n",
    "\n",
    "img = jet(src)\n",
    "cv2.imshow('spectrum', img)\n",
    "\n",
    "\n",
    "tmp = []\n",
    "fn_log = []\n",
    "idx = 1\n",
    "crop = src.copy()\n",
    "while True:\n",
    "    kw=cv2.waitKey()\n",
    "    pos = cv2.getTrackbarPos('base_level','spectrum')\n",
    "    \n",
    "    if kw==27:\n",
    "        break\n",
    "    elif kw==ord('z'):\n",
    "        if fn_log==[]:\n",
    "            crop = src.copy()            \n",
    "            print('이전 작업이 없습니다.')           \n",
    "        else:\n",
    "            crop = tmp.pop()\n",
    "            fn_log.pop()\n",
    "            print('실행취소',len(tmp))\n",
    "    elif kw==ord('r'):\n",
    "        crop = src.copy()\n",
    "        tmp = []\n",
    "        fn_log = []\n",
    "        print()\n",
    "        print('-'*10)\n",
    "        print(\"Reset\")\n",
    "        print('-'*10)\n",
    "        print()\n",
    "    elif iskw(kw):\n",
    "        crop, fn_log = kw_fn(kw,crop,pos,fn_log)\n",
    "    elif kw==ord('a'):\n",
    "        print(\"auto repeat start\")\n",
    "        if fn_log==[]:\n",
    "            continue\n",
    "        else:\n",
    "            crop = auto_fn(crop,fn_log)\n",
    "        print(\"auto repeat end\")\n",
    "    elif kw==ord('n'):\n",
    "        working()\n",
    "        idx +=1\n",
    "    elif kw==ord('s'):\n",
    "        notes = ['C','C#','D','D#','E','F','F#','G','G#','A','A#','B']\n",
    "        y_ticks = np.arange(0,12*freq_w*octave,freq_w)\n",
    "        y_list=[]\n",
    "\n",
    "        for o in range(octave):\n",
    "            for i in range(12):\n",
    "                y_list.append(notes[i]+'%d'%(o+1))\n",
    "\n",
    "        plt.style.use('default')\n",
    "        fig, ax = plt.subplots(1,1,figsize=(15,10))\n",
    "        img = librosa.display.specshow(crop, sr=sr, x_axis='time', ax=ax, hop_length= hop_len, bins_per_octave= 12*freq_w,\n",
    "                                    cmap='jet'\n",
    "                                    )\n",
    "        ax.set(title=filename+str(idx))\n",
    "        ax.set_yticks(y_ticks)\n",
    "        ax.set_yticklabels(y_list)\n",
    "        for i in beat_times:\n",
    "            ax.axvline(i,c='k')\n",
    "        for i in np.arange(0,12*freq_w*octave,freq_w*12):\n",
    "            ax.axhline(i,c='k')\n",
    "        plt.savefig(filename.split('.')[0]+str(idx))\n",
    "        print(filename.split('.')[0]+str(idx),'save complete')\n",
    "    \n",
    "    else:\n",
    "        continue\n",
    "    \n",
    "    print(type(crop))\n",
    "    print(crop.shape)\n",
    "    print(crop.dtype)\n",
    "\n",
    "    hist = cv2.calcHist([crop], [0], None, [256], [1, 256])\n",
    "    print(type(hist),hist.shape)\n",
    "\n",
    "    histImg = getGrayHistImage(hist)\n",
    "    img_bgr = jet(crop)\n",
    "    cv2.imshow('spectrum', img_bgr)\n",
    "    cv2.imshow('histogram', histImg)\n",
    "    tmp.append(crop.copy())\n",
    "    \n",
    "        \n",
    "\n",
    "cv2.destroyAllWindows()"
   ]
  },
  {
   "cell_type": "code",
   "execution_count": 8,
   "metadata": {},
   "outputs": [
    {
     "data": {
      "text/plain": [
       "array([[105, 105, 105, ...,   0,   0,   0],\n",
       "       [111, 111, 111, ...,   0,   0,   0],\n",
       "       [120, 121, 121, ...,   0,   0,   0],\n",
       "       ...,\n",
       "       [  0,   0,   0, ...,   0,   0,   0],\n",
       "       [  0,   0,   0, ...,   0,   0,   0],\n",
       "       [  0,   0,   0, ...,   0,   0,   0]], dtype=uint8)"
      ]
     },
     "execution_count": 8,
     "metadata": {},
     "output_type": "execute_result"
    }
   ],
   "source": [
    "tmp\n",
    "a = tmp.pop()\n",
    "a"
   ]
  },
  {
   "cell_type": "code",
   "execution_count": 9,
   "metadata": {},
   "outputs": [
    {
     "data": {
      "text/plain": [
       "1"
      ]
     },
     "execution_count": 9,
     "metadata": {},
     "output_type": "execute_result"
    }
   ],
   "source": [
    "len(tmp)"
   ]
  },
  {
   "cell_type": "code",
   "execution_count": null,
   "metadata": {},
   "outputs": [],
   "source": []
  }
 ],
 "metadata": {
  "interpreter": {
   "hash": "6eedcdad1dd879e8d32c2300ceddefaddf12f08d76166a315be463aad8107c0d"
  },
  "kernelspec": {
   "display_name": "Python 3.9.12 ('MA')",
   "language": "python",
   "name": "python3"
  },
  "language_info": {
   "codemirror_mode": {
    "name": "ipython",
    "version": 3
   },
   "file_extension": ".py",
   "mimetype": "text/x-python",
   "name": "python",
   "nbconvert_exporter": "python",
   "pygments_lexer": "ipython3",
   "version": "3.9.12"
  },
  "orig_nbformat": 4
 },
 "nbformat": 4,
 "nbformat_minor": 2
}
