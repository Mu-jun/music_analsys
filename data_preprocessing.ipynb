{
 "cells": [
  {
   "cell_type": "code",
   "execution_count": 71,
   "metadata": {},
   "outputs": [
    {
     "data": {
      "text/plain": [
       "'4.5.5'"
      ]
     },
     "execution_count": 71,
     "metadata": {},
     "output_type": "execute_result"
    }
   ],
   "source": [
    "import librosa\n",
    "import librosa.display\n",
    "import cv2\n",
    "import numpy as np\n",
    "import matplotlib.pyplot as plt\n",
    "cv2.__version__"
   ]
  },
  {
   "cell_type": "code",
   "execution_count": 72,
   "metadata": {},
   "outputs": [
    {
     "data": {
      "text/plain": [
       "'0.9.1'"
      ]
     },
     "execution_count": 72,
     "metadata": {},
     "output_type": "execute_result"
    }
   ],
   "source": [
    "librosa.__version__"
   ]
  },
  {
   "cell_type": "code",
   "execution_count": 73,
   "metadata": {},
   "outputs": [
    {
     "name": "stdout",
     "output_type": "stream",
     "text": [
      "(117601,) 22050\n"
     ]
    }
   ],
   "source": [
    "y, sr = librosa.load(librosa.ex('trumpet'))\n",
    "print(y.shape, sr)"
   ]
  },
  {
   "cell_type": "code",
   "execution_count": 86,
   "metadata": {},
   "outputs": [
    {
     "name": "stdout",
     "output_type": "stream",
     "text": [
      "Estimated tempo: 184.57 beats per minute\n",
      "(4,)\n",
      "(4,)\n",
      "(230,)\n"
     ]
    }
   ],
   "source": [
    "onset_env = librosa.onset.onset_strength(y=y, sr=sr)\n",
    "\n",
    "# Run the default beat tracker\n",
    "tempo, beat_frames = librosa.beat.beat_track(y=y, sr=sr)\n",
    "print('Estimated tempo: {:.2f} beats per minute'.format(tempo))\n",
    "print(beat_frames.shape)\n",
    "\n",
    "# dynamic tempo\n",
    "dtempo = librosa.beat.tempo(onset_envelope=onset_env, sr=sr,\n",
    "                            aggregate=None)\n",
    "\n",
    "# Convert the frame indices of beat events into timestamps\n",
    "beat_times = librosa.frames_to_time(beat_frames, sr=sr)\n",
    "print(beat_times.shape)\n",
    "print(dtempo.shape)"
   ]
  },
  {
   "cell_type": "code",
   "execution_count": 66,
   "metadata": {},
   "outputs": [
    {
     "data": {
      "text/plain": [
       "array([[ 8.7092158e-05+1.0339984e-04j,  1.1144641e-04-7.9894460e-05j,\n",
       "        -7.1949595e-05-1.1883960e-04j, ...,\n",
       "        -2.1236959e-09-1.2005826e-10j, -2.8109107e-10+2.0165607e-09j,\n",
       "         1.8462669e-09+3.2992636e-10j],\n",
       "       [ 1.3038056e-04+1.2820076e-04j,  1.4628386e-04-1.0744146e-04j,\n",
       "        -8.1683291e-05-1.5929753e-04j, ...,\n",
       "        -1.2505208e-09-3.6177668e-11j, -1.7153848e-10+1.3790952e-09j,\n",
       "         1.4304550e-09+3.8208398e-10j],\n",
       "       [ 2.0834025e-04+1.3416205e-04j,  1.8706726e-04-1.6863964e-04j,\n",
       "        -1.1480207e-04-2.2764542e-04j, ...,\n",
       "        -1.6994230e-09+1.2186054e-09j,  6.8374861e-10+2.0436364e-09j,\n",
       "         2.1769360e-09+1.0882116e-11j],\n",
       "       ...,\n",
       "       [ 1.2134794e-03+5.6015182e-04j, -1.0657584e-03-6.3301843e-05j,\n",
       "        -2.9847012e-03+7.2249240e-04j, ...,\n",
       "         2.0347272e-05-1.3640551e-05j,  3.6076849e-06+2.6406813e-06j,\n",
       "        -1.6322978e-05+1.7644832e-06j],\n",
       "       [ 9.8200282e-04-9.1201370e-04j, -7.7462447e-04-2.7500986e-05j,\n",
       "        -2.7306483e-03-2.6342750e-04j, ...,\n",
       "         1.0981129e-05-1.6380955e-06j,  3.5743877e-05-1.4406952e-05j,\n",
       "        -9.1088114e-06+7.6597153e-06j],\n",
       "       [-3.7984023e-04-1.4683250e-03j, -2.2260765e-05-5.1315219e-05j,\n",
       "        -8.8367786e-04-4.5788111e-04j, ...,\n",
       "         3.1368845e-07-7.3150213e-06j,  3.8525963e-05-3.2985252e-05j,\n",
       "         3.6092167e-06+2.2816535e-06j]], dtype=complex64)"
      ]
     },
     "execution_count": 66,
     "metadata": {},
     "output_type": "execute_result"
    }
   ],
   "source": [
    "hop_len = 512\n",
    "freq_w = 3\n",
    "octave = 8\n",
    "\n",
    "C = librosa.cqt(y, sr=sr, hop_length= hop_len, n_bins= 12*freq_w*octave, bins_per_octave= 12*freq_w)\n",
    "C"
   ]
  },
  {
   "cell_type": "code",
   "execution_count": 67,
   "metadata": {},
   "outputs": [
    {
     "name": "stdout",
     "output_type": "stream",
     "text": [
      "255.0\n",
      "0.0 255.0\n",
      "0.0 255.0\n",
      "255 0\n"
     ]
    }
   ],
   "source": [
    "C_db = librosa.amplitude_to_db(np.abs(C), ref=np.max)+80\n",
    "c_compression = C_db/80*255\n",
    "print(c_compression.max())\n",
    "\n",
    "c_stretching_pre = np.where(c_compression<150,0,c_compression)\n",
    "print(c_stretching_pre.min(), c_stretching_pre.max())\n",
    "\n",
    "c_stretching = np.where((c_stretching_pre-155)/100*255<0,0,(c_stretching_pre-155)/100*255)\n",
    "print(c_stretching.min(), c_stretching.max())\n",
    "\n",
    "c_gray = c_stretching.astype(np.uint8)\n",
    "print(c_gray.max(),c_gray.min())"
   ]
  },
  {
   "cell_type": "code",
   "execution_count": 85,
   "metadata": {},
   "outputs": [
    {
     "ename": "ValueError",
     "evalue": "x and y must be the same size",
     "output_type": "error",
     "traceback": [
      "\u001b[1;31m---------------------------------------------------------------------------\u001b[0m",
      "\u001b[1;31mValueError\u001b[0m                                Traceback (most recent call last)",
      "\u001b[1;32mc:\\Users\\suo24\\Desktop\\Projects\\AI_Training\\music_analysis\\data_preprocessing.ipynb Cell 7'\u001b[0m in \u001b[0;36m<cell line: 8>\u001b[1;34m()\u001b[0m\n\u001b[0;32m      <a href='vscode-notebook-cell:/c%3A/Users/suo24/Desktop/Projects/AI_Training/music_analysis/data_preprocessing.ipynb#ch0000010?line=4'>5</a>\u001b[0m ax[\u001b[39m0\u001b[39m]\u001b[39m.\u001b[39mset(title\u001b[39m=\u001b[39m\u001b[39m'\u001b[39m\u001b[39mPitch axis decoration\u001b[39m\u001b[39m'\u001b[39m)\n\u001b[0;32m      <a href='vscode-notebook-cell:/c%3A/Users/suo24/Desktop/Projects/AI_Training/music_analysis/data_preprocessing.ipynb#ch0000010?line=5'>6</a>\u001b[0m \u001b[39m# fig.colorbar(img, ax=ax[0], format=\"%+2d dB\")\u001b[39;00m\n\u001b[1;32m----> <a href='vscode-notebook-cell:/c%3A/Users/suo24/Desktop/Projects/AI_Training/music_analysis/data_preprocessing.ipynb#ch0000010?line=7'>8</a>\u001b[0m ax[\u001b[39m1\u001b[39;49m]\u001b[39m.\u001b[39;49mscatter(beat_times,dtempo)\n\u001b[0;32m      <a href='vscode-notebook-cell:/c%3A/Users/suo24/Desktop/Projects/AI_Training/music_analysis/data_preprocessing.ipynb#ch0000010?line=8'>9</a>\u001b[0m ax[\u001b[39m1\u001b[39m]\u001b[39m.\u001b[39mset_xlim(\u001b[39m0\u001b[39m,\u001b[39m5\u001b[39m)\n",
      "File \u001b[1;32m~\\anaconda3\\envs\\MA\\lib\\site-packages\\matplotlib\\__init__.py:1412\u001b[0m, in \u001b[0;36m_preprocess_data.<locals>.inner\u001b[1;34m(ax, data, *args, **kwargs)\u001b[0m\n\u001b[0;32m   <a href='file:///c%3A/Users/suo24/anaconda3/envs/MA/lib/site-packages/matplotlib/__init__.py?line=1408'>1409</a>\u001b[0m \u001b[39m@functools\u001b[39m\u001b[39m.\u001b[39mwraps(func)\n\u001b[0;32m   <a href='file:///c%3A/Users/suo24/anaconda3/envs/MA/lib/site-packages/matplotlib/__init__.py?line=1409'>1410</a>\u001b[0m \u001b[39mdef\u001b[39;00m \u001b[39minner\u001b[39m(ax, \u001b[39m*\u001b[39margs, data\u001b[39m=\u001b[39m\u001b[39mNone\u001b[39;00m, \u001b[39m*\u001b[39m\u001b[39m*\u001b[39mkwargs):\n\u001b[0;32m   <a href='file:///c%3A/Users/suo24/anaconda3/envs/MA/lib/site-packages/matplotlib/__init__.py?line=1410'>1411</a>\u001b[0m     \u001b[39mif\u001b[39;00m data \u001b[39mis\u001b[39;00m \u001b[39mNone\u001b[39;00m:\n\u001b[1;32m-> <a href='file:///c%3A/Users/suo24/anaconda3/envs/MA/lib/site-packages/matplotlib/__init__.py?line=1411'>1412</a>\u001b[0m         \u001b[39mreturn\u001b[39;00m func(ax, \u001b[39m*\u001b[39m\u001b[39mmap\u001b[39m(sanitize_sequence, args), \u001b[39m*\u001b[39m\u001b[39m*\u001b[39mkwargs)\n\u001b[0;32m   <a href='file:///c%3A/Users/suo24/anaconda3/envs/MA/lib/site-packages/matplotlib/__init__.py?line=1413'>1414</a>\u001b[0m     bound \u001b[39m=\u001b[39m new_sig\u001b[39m.\u001b[39mbind(ax, \u001b[39m*\u001b[39margs, \u001b[39m*\u001b[39m\u001b[39m*\u001b[39mkwargs)\n\u001b[0;32m   <a href='file:///c%3A/Users/suo24/anaconda3/envs/MA/lib/site-packages/matplotlib/__init__.py?line=1414'>1415</a>\u001b[0m     auto_label \u001b[39m=\u001b[39m (bound\u001b[39m.\u001b[39marguments\u001b[39m.\u001b[39mget(label_namer)\n\u001b[0;32m   <a href='file:///c%3A/Users/suo24/anaconda3/envs/MA/lib/site-packages/matplotlib/__init__.py?line=1415'>1416</a>\u001b[0m                   \u001b[39mor\u001b[39;00m bound\u001b[39m.\u001b[39mkwargs\u001b[39m.\u001b[39mget(label_namer))\n",
      "File \u001b[1;32m~\\anaconda3\\envs\\MA\\lib\\site-packages\\matplotlib\\axes\\_axes.py:4369\u001b[0m, in \u001b[0;36mAxes.scatter\u001b[1;34m(self, x, y, s, c, marker, cmap, norm, vmin, vmax, alpha, linewidths, edgecolors, plotnonfinite, **kwargs)\u001b[0m\n\u001b[0;32m   <a href='file:///c%3A/Users/suo24/anaconda3/envs/MA/lib/site-packages/matplotlib/axes/_axes.py?line=4366'>4367</a>\u001b[0m y \u001b[39m=\u001b[39m np\u001b[39m.\u001b[39mma\u001b[39m.\u001b[39mravel(y)\n\u001b[0;32m   <a href='file:///c%3A/Users/suo24/anaconda3/envs/MA/lib/site-packages/matplotlib/axes/_axes.py?line=4367'>4368</a>\u001b[0m \u001b[39mif\u001b[39;00m x\u001b[39m.\u001b[39msize \u001b[39m!=\u001b[39m y\u001b[39m.\u001b[39msize:\n\u001b[1;32m-> <a href='file:///c%3A/Users/suo24/anaconda3/envs/MA/lib/site-packages/matplotlib/axes/_axes.py?line=4368'>4369</a>\u001b[0m     \u001b[39mraise\u001b[39;00m \u001b[39mValueError\u001b[39;00m(\u001b[39m\"\u001b[39m\u001b[39mx and y must be the same size\u001b[39m\u001b[39m\"\u001b[39m)\n\u001b[0;32m   <a href='file:///c%3A/Users/suo24/anaconda3/envs/MA/lib/site-packages/matplotlib/axes/_axes.py?line=4370'>4371</a>\u001b[0m \u001b[39mif\u001b[39;00m s \u001b[39mis\u001b[39;00m \u001b[39mNone\u001b[39;00m:\n\u001b[0;32m   <a href='file:///c%3A/Users/suo24/anaconda3/envs/MA/lib/site-packages/matplotlib/axes/_axes.py?line=4371'>4372</a>\u001b[0m     s \u001b[39m=\u001b[39m (\u001b[39m20\u001b[39m \u001b[39mif\u001b[39;00m rcParams[\u001b[39m'\u001b[39m\u001b[39m_internal.classic_mode\u001b[39m\u001b[39m'\u001b[39m] \u001b[39melse\u001b[39;00m\n\u001b[0;32m   <a href='file:///c%3A/Users/suo24/anaconda3/envs/MA/lib/site-packages/matplotlib/axes/_axes.py?line=4372'>4373</a>\u001b[0m          rcParams[\u001b[39m'\u001b[39m\u001b[39mlines.markersize\u001b[39m\u001b[39m'\u001b[39m] \u001b[39m*\u001b[39m\u001b[39m*\u001b[39m \u001b[39m2.0\u001b[39m)\n",
      "\u001b[1;31mValueError\u001b[0m: x and y must be the same size"
     ]
    },
    {
     "data": {
      "image/png": "[encoded data removed]",
      "text/plain": [
       "<Figure size 720x720 with 2 Axes>"
      ]
     },
     "metadata": {
      "needs_background": "light"
     },
     "output_type": "display_data"
    }
   ],
   "source": [
    "c_y = c_gray\n",
    "\n",
    "fig, ax = plt.subplots(2,1,figsize=(10,10))\n",
    "img = librosa.display.specshow(c_y, sr=sr, y_axis='cqt_note', x_axis='time', ax=ax[0], hop_length= hop_len, bins_per_octave= 12*freq_w, cmap='gray')\n",
    "ax[0].set(title='Pitch axis decoration')\n",
    "# fig.colorbar(img, ax=ax[0], format=\"%+2d dB\")\n",
    "\n",
    "ax[1].scatter(beat_times,dtempo)\n",
    "ax[1].set_xlim(0,5)"
   ]
  },
  {
   "cell_type": "code",
   "execution_count": 57,
   "metadata": {},
   "outputs": [],
   "source": [
    "src = c_gray\n",
    "\n",
    "sharpening_mask1 = np.array([[-1, -1, -1], [-1, 9, -1], [-1, -1, -1]])\n",
    "sharpening_mask2 = np.array([[0, -1, 0], [-1, 5, -1], [0, -1, 0]])\n",
    "\n",
    "sharpening_out1 = cv2.filter2D(src, -1, sharpening_mask1)\n",
    "sharpening_out2 = cv2.filter2D(src, -1, sharpening_mask2)\n",
    "\n",
    "cv2.imshow('sharpening1', sharpening_out1)\n",
    "cv2.imshow('sharpening2', sharpening_out2)\n",
    "\n",
    "cv2.waitKey()\n",
    "cv2.destroyAllWindows()"
   ]
  },
  {
   "cell_type": "code",
   "execution_count": null,
   "metadata": {},
   "outputs": [],
   "source": []
  }
 ],
 "metadata": {
  "interpreter": {
   "hash": "95083d5f19aa117689fab90c94b60f1cfc6c2680b3c435d07be79d48f214f32a"
  },
  "kernelspec": {
   "display_name": "Python 3.9.7 ('base')",
   "language": "python",
   "name": "python3"
  },
  "language_info": {
   "codemirror_mode": {
    "name": "ipython",
    "version": 3
   },
   "file_extension": ".py",
   "mimetype": "text/x-python",
   "name": "python",
   "nbconvert_exporter": "python",
   "pygments_lexer": "ipython3",
   "version": "3.9.12"
  },
  "orig_nbformat": 4
 },
 "nbformat": 4,
 "nbformat_minor": 2
}
