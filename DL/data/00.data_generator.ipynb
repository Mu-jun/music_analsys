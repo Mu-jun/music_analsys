{
 "cells": [
  {
   "cell_type": "code",
   "execution_count": null,
   "id": "5b820b6c",
   "metadata": {},
   "outputs": [],
   "source": [
    "import pretty_midi\n",
    "import librosa\n",
    "import numpy as np\n",
    "\n",
    "import matplotlib.pyplot as plt\n",
    "\n",
    "import io\n"
   ]
  },
  {
   "cell_type": "markdown",
   "id": "b103077c",
   "metadata": {},
   "source": [
    "# generate input data(wave format)"
   ]
  },
  {
   "cell_type": "code",
   "execution_count": null,
   "id": "a8a313d2",
   "metadata": {},
   "outputs": [],
   "source": [
    "filename = \"Flower_Dance.mid\"\n",
    "sr = 44100"
   ]
  },
  {
   "cell_type": "code",
   "execution_count": null,
   "id": "7972f2ec",
   "metadata": {},
   "outputs": [],
   "source": [
    "midi_data = pretty_midi.PrettyMIDI(filename)\n",
    "\n",
    "audio_data = midi_data.fluidsynth(\n",
    "    sr,\n",
    "#     sf2_path='MuseScore_General.sf3', # default : TimGM6mb.sf2\n",
    ")\n",
    "\n",
    "hop_len = 512\n",
    "freq_w = 3\n",
    "octave = 7\n",
    "\n",
    "C = librosa.cqt(\n",
    "    y, sr=sr,\n",
    "    hop_length= hop_len,\n",
    "    n_bins= 12*freq_w*octave,\n",
    "    bins_per_octave= 12*freq_w\n",
    ")\n",
    "\n",
    "src = np.abs(C)\n",
    "\n",
    "notes = ['C','C#','D','D#','E','F','F#','G','G#','A','A#','B']\n",
    "y_ticks = np.arange(0,12*freq_w*octave,freq_w)\n",
    "y_list=[]\n",
    "\n",
    "for o in range(octave):\n",
    "    for i in range(12):\n",
    "        y_list.append(notes[i]+'%d'%(o+1))\n",
    "\n",
    "plt.style.use('default')\n",
    "fig, ax = plt.subplots(1,1,figsize=(15,10))\n",
    "img = librosa.display.specshow(src, sr=sr, x_axis='time', ax=ax, hop_length= hop_len, bins_per_octave= 12*freq_w,\n",
    "                               cmap='jet'\n",
    "                               )\n",
    "ax.set(title='Pitch axis decoration')\n",
    "ax.set_yticks(y_ticks)\n",
    "ax.set_yticklabels(y_list)\n",
    "fig.colorbar(img, ax=ax, format=\"%+2d\")\n",
    "for i in beat_times:\n",
    "    ax.axvline(i,c='k')\n",
    "\n",
    "plt.show()"
   ]
  },
  {
   "cell_type": "markdown",
   "id": "495459ce",
   "metadata": {},
   "source": [
    "# generate target data(piano roll)"
   ]
  },
  {
   "cell_type": "code",
   "execution_count": null,
   "id": "5e2391cb",
   "metadata": {},
   "outputs": [],
   "source": [
    "piano_roll = midi_data.get_piano_roll(sr)\n",
    "\n",
    "plt.figure(figsize=(8,4))\n",
    "librosa.display.specshow(\n",
    "    piano_roll, #[start_pitch:end_pitch],\n",
    "    hop_length=1,\n",
    "    sr=sr,\n",
    "    x_axis='time',\n",
    "    y_axis='cqt_note',\n",
    "#     fmin=pretty_midi.note_number_to_hz(start_pitch)\n",
    ")\n",
    "plt.show()"
   ]
  }
 ],
 "metadata": {
  "kernelspec": {
   "display_name": "MA",
   "language": "python",
   "name": "ma"
  },
  "language_info": {
   "codemirror_mode": {
    "name": "ipython",
    "version": 3
   },
   "file_extension": ".py",
   "mimetype": "text/x-python",
   "name": "python",
   "nbconvert_exporter": "python",
   "pygments_lexer": "ipython3",
   "version": "3.9.12"
  }
 },
 "nbformat": 4,
 "nbformat_minor": 5
}
