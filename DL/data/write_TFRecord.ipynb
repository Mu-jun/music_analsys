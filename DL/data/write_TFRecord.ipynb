{
 "cells": [
  {
   "cell_type": "code",
   "execution_count": null,
   "id": "b338f09b",
   "metadata": {},
   "outputs": [],
   "source": [
    "import tensorflow as tf\n",
    "import librosa\n",
    "import numpy as np\n",
    "from PIL import Image\n",
    "import pretty_midi_fluidsynth as pmf\n",
    "\n",
    "import os\n",
    "from pathlib import Path\n",
    "from tqdm import tqdm"
   ]
  },
  {
   "cell_type": "code",
   "execution_count": null,
   "id": "b47b0ce4",
   "metadata": {},
   "outputs": [],
   "source": [
    "def mk_path(group):\n",
    "    data_path = './test_data/'+group\n",
    "    x_path = os.path.join(data_path,'wav')\n",
    "    y_path = os.path.join(data_path,'midi')\n",
    "    filename = f\"{group}_cqt-piano_roll.tfrecord\"    \n",
    "    return x_path, y_path, filename"
   ]
  },
  {
   "cell_type": "code",
   "execution_count": null,
   "id": "1a75745e",
   "metadata": {},
   "outputs": [],
   "source": [
    "hop_len = 441\n",
    "freq_w = 4\n",
    "octave = 8\n",
    "\n",
    "sr = 44100\n",
    "fs = 25\n",
    "\n",
    "start_pitch = 24\n",
    "end_pitch = 120\n",
    "\n",
    "n_bins = 12*freq_w*octave\n",
    "bins_per_octave = 12*freq_w\n",
    "\n",
    "pr_n_bins = end_pitch - start_pitch\n",
    "\n",
    "assert(n_bins//freq_w==pr_n_bins)"
   ]
  },
  {
   "cell_type": "markdown",
   "id": "1aa6e397",
   "metadata": {},
   "source": [
    "# TFRecord 쓰기"
   ]
  },
  {
   "cell_type": "code",
   "execution_count": null,
   "id": "a819a7ad",
   "metadata": {},
   "outputs": [],
   "source": [
    "groups = ['class1','class2','class3','class4']\n",
    "for g in groups:\n",
    "    x_path, y_path, filename = mk_path(g)\n",
    "    sample_num = len(os.listdir(x_path))\n",
    "    \n",
    "    writer = tf.io.TFRecordWriter(filename)\n",
    "    example = tf.train.SequenceExample()\n",
    "\n",
    "    example.context.feature['hop_length'].int64_list.value.append(hop_len)\n",
    "    example.context.feature['freq_width'].int64_list.value.append(freq_w)\n",
    "    example.context.feature['octave'].int64_list.value.append(octave)\n",
    "    example.context.feature['sampling_rate'].int64_list.value.append(sr)\n",
    "    example.context.feature['piano_roll_fs'].int64_list.value.append(fs)\n",
    "    example.context.feature['start_pitch'].int64_list.value.append(start_pitch)\n",
    "    example.context.feature['end_pitch'].int64_list.value.append(end_pitch)\n",
    "\n",
    "    cqt_list = example.feature_lists.feature_list[\"x\"]\n",
    "    piano_roll = example.feature_lists.feature_list['y']\n",
    "    for x_file,y_file in tqdm(zip(os.listdir(x_path),os.listdir(y_path)),\n",
    "                              total=sample_num):\n",
    "\n",
    "        path = os.path.join(y_path, y_file)\n",
    "        pm = pmf.PrettyMIDI(path)\n",
    "        pr = pm.get_piano_roll(fs)\n",
    "        array = pr[start_pitch:end_pitch,:]/255.\n",
    "        array = array.astype(np.float32)\n",
    "\n",
    "        piano_roll.feature.add().bytes_list.value.append(\n",
    "            array.tobytes()\n",
    "        )\n",
    "\n",
    "        sec = array.shape[1]//fs\n",
    "\n",
    "        path = os.path.join(x_path, x_file)\n",
    "        audio_data, _ = librosa.load(path,sr=sr)\n",
    "        cqt = librosa.cqt(audio_data, sr=sr,\n",
    "                          hop_length= hop_len,\n",
    "                          n_bins= 12*freq_w*octave,\n",
    "                          bins_per_octave= 12*freq_w,\n",
    "                         )\n",
    "        cqt = np.abs(cqt[:,:sr//hop_len*sec])\n",
    "        cqt = librosa.amplitude_to_db(cqt,ref=np.max)/80+1\n",
    "        cqt = cqt.astype(np.float32)\n",
    "\n",
    "        cqt_list.feature.add().bytes_list.value.append(\n",
    "            cqt.tobytes()\n",
    "        )\n",
    "\n",
    "\n",
    "    writer.write(example.SerializeToString())"
   ]
  },
  {
   "cell_type": "markdown",
   "id": "086a5dc1",
   "metadata": {},
   "source": [
    "# TFRecord 읽기"
   ]
  },
  {
   "cell_type": "code",
   "execution_count": null,
   "id": "1faffaf5",
   "metadata": {},
   "outputs": [],
   "source": [
    "context_description = {\n",
    "    'hop_length':tf.io.FixedLenFeature([],tf.int64,\n",
    "                                       default_value=0),\n",
    "    'freq_width':tf.io.FixedLenFeature([],tf.int64,\n",
    "                                       default_value=0),\n",
    "    'octave':tf.io.FixedLenFeature([],tf.int64,\n",
    "                                   default_value=0),\n",
    "    'sampling_rate':tf.io.FixedLenFeature([],tf.int64,\n",
    "                                          default_value=0),\n",
    "    'piano_roll_fs':tf.io.FixedLenFeature([],tf.int64,\n",
    "                                          default_value=0),\n",
    "    'start_pitch': tf.io.FixedLenFeature([],tf.int64,\n",
    "                                    default_value=0),\n",
    "    'end_pitch':tf.io.FixedLenFeature([],tf.int64,\n",
    "                                            default_value=0),\n",
    "}\n",
    "\n",
    "sequence_description = {\n",
    "    'x': tf.io.FixedLenSequenceFeature([], tf.string),\n",
    "    'y': tf.io.FixedLenSequenceFeature([], tf.string),\n",
    "}\n",
    "\n",
    "def _parse_function(example_proto):\n",
    "  # Parse the input `tf.train.Example` proto using the dictionary above.\n",
    "  return tf.io.parse_single_sequence_example(example_proto,\n",
    "                                             context_description,\n",
    "                                             sequence_description,)"
   ]
  },
  {
   "cell_type": "code",
   "execution_count": null,
   "id": "b074de2f",
   "metadata": {},
   "outputs": [],
   "source": [
    "import matplotlib.pyplot as plt\n",
    "import librosa.display\n",
    "\n",
    "raw_ds = tf.data.TFRecordDataset(filename)\n",
    "parsed_ds = raw_ds.map(_parse_function)\n",
    "for ds in parsed_ds.take(1):\n",
    "    print(type(ds))\n",
    "    print(len(ds))\n",
    "    print(type(ds[0]))\n",
    "    print(ds[0].keys())\n",
    "    print(type(ds[1]))\n",
    "    print(ds[1].keys())\n",
    "    \n",
    "    context, sequence = ds"
   ]
  },
  {
   "cell_type": "code",
   "execution_count": null,
   "id": "35ed2b44",
   "metadata": {},
   "outputs": [],
   "source": [
    "cqt = tf.io.decode_raw(sequence['x'][0],\n",
    "                       tf.float32\n",
    "                      ).numpy().reshape(n_bins,-1)\n",
    "cqt.shape"
   ]
  },
  {
   "cell_type": "code",
   "execution_count": null,
   "id": "1010e537",
   "metadata": {},
   "outputs": [],
   "source": [
    "fig, ax = plt.subplots(1,1,figsize=(15,10))\n",
    "img = librosa.display.specshow(cqt, sr=sr,\n",
    "                               x_axis='time',\n",
    "                               y_axis='cqt_note',\n",
    "                               ax=ax,\n",
    "                               hop_length= hop_len,\n",
    "                               bins_per_octave= 12*freq_w,\n",
    "                               cmap='jet'\n",
    "                               )\n",
    "ax.set(title='Pitch axis decoration')\n",
    "fig.colorbar(img, ax=ax, format=\"%+2d\")\n",
    "# for i in beat_times:\n",
    "#     ax.axvline(i,c='k')\n",
    "\n",
    "plt.show()"
   ]
  },
  {
   "cell_type": "code",
   "execution_count": null,
   "id": "5fdcd87b",
   "metadata": {},
   "outputs": [],
   "source": [
    "piano_roll = tf.io.decode_raw(sequence['y'][0],\n",
    "                              tf.float32\n",
    "                             ).numpy().reshape(end_pitch-start_pitch,-1)\n",
    "piano_roll.shape"
   ]
  },
  {
   "cell_type": "code",
   "execution_count": null,
   "id": "14cef78f",
   "metadata": {},
   "outputs": [],
   "source": [
    "print(piano_roll.min())\n",
    "print(piano_roll.max())"
   ]
  },
  {
   "cell_type": "code",
   "execution_count": null,
   "id": "435a7928",
   "metadata": {},
   "outputs": [],
   "source": [
    "fig, ax = plt.subplots(1,1,figsize=(15,10))\n",
    "img = librosa.display.specshow(\n",
    "    piano_roll*255,\n",
    "    hop_length=1,\n",
    "    sr=fs,\n",
    "    ax=ax,\n",
    "    x_axis='time',\n",
    "    y_axis='cqt_note',\n",
    "    cmap='jet',\n",
    "    fmin=pmf.note_number_to_hz(start_pitch),\n",
    "    vmin=0,\n",
    "    vmax=255,\n",
    ")\n",
    "fig.colorbar(img, ax=ax, format=\"%+3.2f\")\n",
    "plt.show()"
   ]
  },
  {
   "cell_type": "markdown",
   "id": "3351726f",
   "metadata": {},
   "source": [
    "# piano_roll to midi"
   ]
  },
  {
   "cell_type": "code",
   "execution_count": null,
   "id": "bc33b1a4",
   "metadata": {},
   "outputs": [],
   "source": [
    "def piano_roll_to_pretty_midi(piano_roll, fs=100, program=0, start_pitch=24):\n",
    "    \n",
    "    notes = piano_roll.shape[0] + start_pitch\n",
    "    pm = pmf.PrettyMIDI()\n",
    "    instrument = pmf.Instrument(program=program)\n",
    "\n",
    "    # pad 1 column of zeros so we can acknowledge inital and ending events\n",
    "    piano_roll = np.pad(piano_roll,\n",
    "                        [(start_pitch, 0), (1, 1)],\n",
    "                        'constant')*255\n",
    "\n",
    "    # use changes in velocities to find note on / note off events\n",
    "    velocity_changes = np.nonzero(np.diff(piano_roll).T)\n",
    "\n",
    "    # keep track on velocities and note on times\n",
    "    prev_velocities = np.zeros(notes, dtype=int)\n",
    "    note_on_time = np.zeros(notes)\n",
    "\n",
    "    for time, note in zip(*velocity_changes):\n",
    "        # use time + 1 because of padding above\n",
    "        velocity = int(piano_roll[note, time + 1])\n",
    "        if velocity > 126:\n",
    "            velocity = 126\n",
    "        time = time / fs\n",
    "        if velocity > 0:\n",
    "            if prev_velocities[note] == 0:\n",
    "                note_on_time[note] = time\n",
    "                prev_velocities[note] = velocity\n",
    "\n",
    "        else:\n",
    "            pm_note = pmf.Note(\n",
    "                velocity=prev_velocities[note],\n",
    "                pitch=note,\n",
    "                start=note_on_time[note],\n",
    "                end=time)\n",
    "            instrument.notes.append(pm_note)\n",
    "            prev_velocities[note] = 0\n",
    "    pm.instruments.append(instrument)\n",
    "    return pm"
   ]
  },
  {
   "cell_type": "code",
   "execution_count": null,
   "id": "25990d26",
   "metadata": {},
   "outputs": [],
   "source": [
    "midi_data = piano_roll_to_pretty_midi(piano_roll,fs)\n",
    "midi_data.write('sample.mid')"
   ]
  },
  {
   "cell_type": "code",
   "execution_count": null,
   "id": "e1586d9d",
   "metadata": {},
   "outputs": [],
   "source": [
    "midi_data = pmf.PrettyMIDI('sample.mid')\n",
    "\n",
    "pr = midi_data.get_piano_roll(fs)\n",
    "\n",
    "start_pitch = 24\n",
    "end_pitch = 120\n",
    "\n",
    "pr[start_pitch:end_pitch,:].shape"
   ]
  },
  {
   "cell_type": "code",
   "execution_count": null,
   "id": "d8aa950d",
   "metadata": {},
   "outputs": [],
   "source": [
    "fig, ax = plt.subplots(1,1,figsize=(15,10))\n",
    "img = librosa.display.specshow(\n",
    "    pr[start_pitch:end_pitch,:],\n",
    "    hop_length=1,\n",
    "    sr=fs,\n",
    "    ax=ax,\n",
    "    x_axis='time',\n",
    "    y_axis='cqt_note',\n",
    "    cmap='jet',\n",
    "    fmin=pmf.note_number_to_hz(start_pitch),\n",
    "    vmin=0,\n",
    "    vmax=255,\n",
    ")\n",
    "fig.colorbar(img, ax=ax, format=\"%+2d\")\n",
    "plt.show()"
   ]
  },
  {
   "cell_type": "code",
   "execution_count": null,
   "id": "bbafcb0b",
   "metadata": {},
   "outputs": [],
   "source": [
    "import requests\n",
    "\n",
    "discord=\"https://discord.com/api/webhooks/987570078214144010/MqCbIplVSfwqCcL747t-1Sx6DRuM6_o7QnwmLgw3rpQAO3sB1cY-QUIwu8qCvcJ8KT63\"\n",
    "headers={\n",
    "    'Content-Type': 'application/json'\n",
    "}\n",
    "data = '{\"content\":\"TFRecode Write Completed\"}'\n",
    "\n",
    "response = requests.post(\n",
    "    discord,\n",
    "    headers=headers,\n",
    "    data=data.encode('utf8')\n",
    ")"
   ]
  }
 ],
 "metadata": {
  "kernelspec": {
   "display_name": "MA",
   "language": "python",
   "name": "ma"
  },
  "language_info": {
   "codemirror_mode": {
    "name": "ipython",
    "version": 3
   },
   "file_extension": ".py",
   "mimetype": "text/x-python",
   "name": "python",
   "nbconvert_exporter": "python",
   "pygments_lexer": "ipython3",
   "version": "3.9.12"
  }
 },
 "nbformat": 4,
 "nbformat_minor": 5
}
