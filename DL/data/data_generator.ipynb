{
 "cells": [
  {
   "cell_type": "code",
   "execution_count": 1,
   "id": "dfeb4527",
   "metadata": {},
   "outputs": [],
   "source": [
    "import pretty_midi_fluidsynth as pmf\n",
    "import librosa\n",
    "import numpy as np\n",
    "import pandas as pd\n",
    "\n",
    "import matplotlib.pyplot as plt\n",
    "import librosa.display\n",
    "from IPython.display import Audio\n",
    "\n",
    "from PIL import Image\n",
    "import soundfile as sf"
   ]
  },
  {
   "cell_type": "code",
   "execution_count": 2,
   "id": "abbb1920",
   "metadata": {},
   "outputs": [],
   "source": [
    "sr = 44100\n",
    "\n",
    "# hop_len = 512\n",
    "# freq_w = 3\n",
    "# octave = 8\n",
    "\n",
    "fs = 100"
   ]
  },
  {
   "cell_type": "markdown",
   "id": "fcca4a6a",
   "metadata": {},
   "source": [
    "# gen data save"
   ]
  },
  {
   "cell_type": "code",
   "execution_count": 3,
   "id": "1ff860c7",
   "metadata": {},
   "outputs": [],
   "source": [
    "import os\n",
    "from pathlib import Path\n",
    "from tqdm import tqdm"
   ]
  },
  {
   "cell_type": "code",
   "execution_count": 4,
   "id": "386c33cd",
   "metadata": {},
   "outputs": [],
   "source": [
    "x_path = Path('./gen_data/wav')\n",
    "x_path.mkdir(parents=True, exist_ok=True)\n",
    "\n",
    "y_path = Path('./gen_data/midi')\n",
    "y_path.mkdir(parents=True, exist_ok=True)"
   ]
  },
  {
   "cell_type": "code",
   "execution_count": 5,
   "id": "3f86a800",
   "metadata": {},
   "outputs": [
    {
     "name": "stdout",
     "output_type": "stream",
     "text": [
      "['FluidR3Mono_GM.sf3', 'GeneralUser GS 1.35.sf2', 'GeneralUser GS Live-Audigy v1.44.sf2', 'GeneralUser GS MuseScore v1.442.sf2', 'GeneralUser GS SoftSynth v1.44.sf2', 'GeneralUser GS v1.471.sf2', 'MuseScore_General.sf3', 'TimGM6mb.sf2', 'weedsgm4_update.sf2']\n"
     ]
    }
   ],
   "source": [
    "sf_list = os.listdir(\"./sf\")\n",
    "print(sf_list)"
   ]
  },
  {
   "cell_type": "code",
   "execution_count": 6,
   "id": "c64f127e",
   "metadata": {},
   "outputs": [
    {
     "name": "stdout",
     "output_type": "stream",
     "text": [
      "FluidR3Mono_GM\n",
      "GeneralUser GS 1\n",
      "GeneralUser GS Live-Audigy v1\n",
      "GeneralUser GS MuseScore v1\n",
      "GeneralUser GS SoftSynth v1\n",
      "GeneralUser GS v1\n",
      "MuseScore_General\n",
      "TimGM6mb\n",
      "weedsgm4_update\n"
     ]
    }
   ],
   "source": [
    "for sf_file in sf_list:\n",
    "    print(sf_file.split('.')[0])"
   ]
  },
  {
   "cell_type": "code",
   "execution_count": 7,
   "id": "54fa3ad7",
   "metadata": {},
   "outputs": [
    {
     "name": "stderr",
     "output_type": "stream",
     "text": [
      "100%|██████████████████████████████████████████████████████████████████████████| 10000/10000 [6:12:06<00:00,  2.23s/it]\n",
      "100%|██████████████████████████████████████████████████████████████████████████| 10000/10000 [1:26:13<00:00,  1.93it/s]\n",
      "100%|██████████████████████████████████████████████████████████████████████████| 10000/10000 [1:33:08<00:00,  1.79it/s]\n",
      "100%|██████████████████████████████████████████████████████████████████████████| 10000/10000 [1:35:58<00:00,  1.74it/s]\n",
      "100%|██████████████████████████████████████████████████████████████████████████| 10000/10000 [1:34:33<00:00,  1.76it/s]\n",
      "100%|██████████████████████████████████████████████████████████████████████████| 10000/10000 [1:36:56<00:00,  1.72it/s]\n",
      "100%|█████████████████████████████████████████████████████████████████████████| 10000/10000 [11:16:03<00:00,  4.06s/it]\n",
      "100%|██████████████████████████████████████████████████████████████████████████| 10000/10000 [1:01:13<00:00,  2.72it/s]\n",
      "100%|████████████████████████████████████████████████████████████████████████████| 10000/10000 [46:53<00:00,  3.55it/s]\n"
     ]
    }
   ],
   "source": [
    "for sf_file in sf_list[:]:\n",
    "    for idx in tqdm(range(10000)):\n",
    "        instr_list = []\n",
    "\n",
    "        n = np.random.randint(1,10)\n",
    "        for _ in range(n):\n",
    "            i = np.random.randint(128)\n",
    "            instr = pmf.Instrument(program=i)\n",
    "            instr.name = pmf.program_to_instrument_name(i)\n",
    "\n",
    "            note_n = np.random.randint(2,10)\n",
    "            velocity = np.random.randint(50,125)\n",
    "            \n",
    "            for _ in range(note_n):\n",
    "                pitch = np.random.randint(24,120)\n",
    "                start_time = np.random.randint(1,10)\n",
    "                end_time = start_time + np.random.randint(1,4)\n",
    "                note = pmf.Note(velocity=velocity,\n",
    "                               pitch=pitch,\n",
    "                               start=start_time,\n",
    "                               end=end_time,)\n",
    "                instr.notes.append(note)\n",
    "            instr_list.append(instr)\n",
    "\n",
    "        pm = pmf.PrettyMIDI()\n",
    "        for instr in instr_list:\n",
    "            pm.instruments.append(instr)\n",
    "\n",
    "        sf_path = os.path.join('./sf/',sf_file)\n",
    "        x = pm.fluidsynth(sr,sf2_path=sf_path)\n",
    "\n",
    "        filename = f\"{sf_file.split('.')[0]}-{idx:04d}\"\n",
    "        \n",
    "        midi_path = os.path.join(y_path,f'{filename}.midi')\n",
    "        pm.write(midi_path)\n",
    "        \n",
    "#         y = pm.get_piano_roll(fs).astype(np.uint8)\n",
    "#         img = Image.fromarray(y)\n",
    "#         img_path = os.path.join(y_path,f'{filename}.png')\n",
    "#         img.save(img_path)\n",
    "        \n",
    "        wav_path = os.path.join(x_path,f'{filename}.wav')\n",
    "        sf.write(wav_path,x,sr,'PCM_32')"
   ]
  },
  {
   "cell_type": "code",
   "execution_count": 8,
   "id": "116c91fe",
   "metadata": {},
   "outputs": [
    {
     "name": "stdout",
     "output_type": "stream",
     "text": [
      "completed\n"
     ]
    }
   ],
   "source": [
    "print(\"completed\")"
   ]
  },
  {
   "cell_type": "code",
   "execution_count": null,
   "id": "dfc600d5",
   "metadata": {},
   "outputs": [],
   "source": []
  }
 ],
 "metadata": {
  "kernelspec": {
   "display_name": "MA",
   "language": "python",
   "name": "ma"
  },
  "language_info": {
   "codemirror_mode": {
    "name": "ipython",
    "version": 3
   },
   "file_extension": ".py",
   "mimetype": "text/x-python",
   "name": "python",
   "nbconvert_exporter": "python",
   "pygments_lexer": "ipython3",
   "version": "3.9.12"
  }
 },
 "nbformat": 4,
 "nbformat_minor": 5
}
