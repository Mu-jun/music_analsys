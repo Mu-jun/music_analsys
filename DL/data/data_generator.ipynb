{
 "cells": [
  {
   "cell_type": "code",
   "execution_count": null,
   "id": "dfeb4527",
   "metadata": {},
   "outputs": [],
   "source": [
    "import pretty_midi_fluidsynth as pmf\n",
    "import librosa\n",
    "import numpy as np\n",
    "import pandas as pd\n",
    "\n",
    "import matplotlib.pyplot as plt\n",
    "import librosa.display\n",
    "from IPython.display import Audio\n",
    "\n",
    "from PIL import Image\n",
    "import soundfile as sf"
   ]
  },
  {
   "cell_type": "code",
   "execution_count": null,
   "id": "abbb1920",
   "metadata": {},
   "outputs": [],
   "source": [
    "sr = 44100\n",
    "\n",
    "# hop_len = 512\n",
    "# freq_w = 3\n",
    "# octave = 8\n",
    "\n",
    "fs = 100"
   ]
  },
  {
   "cell_type": "markdown",
   "id": "fcca4a6a",
   "metadata": {},
   "source": [
    "# gen data save"
   ]
  },
  {
   "cell_type": "code",
   "execution_count": null,
   "id": "1ff860c7",
   "metadata": {},
   "outputs": [],
   "source": [
    "import os\n",
    "from pathlib import Path\n",
    "from tqdm import tqdm"
   ]
  },
  {
   "cell_type": "markdown",
   "id": "6f586131",
   "metadata": {},
   "source": [
    "- Class 1 (Acoustic Grand Piano(0) ~ Dulcimer(15))\n",
    "- Class 2 (Drawbar Organ(16) ~ Synth Choir(54))\n",
    "- Class 3 (Orchestra Hit(55) ~ Shakuhachi(77))\n",
    "- Class 4 (Whistle(78) ~ Gunshot(127))"
   ]
  },
  {
   "cell_type": "code",
   "execution_count": null,
   "id": "edb735c9",
   "metadata": {},
   "outputs": [],
   "source": [
    "pmf.instrument_name_to_program('Gunshot')"
   ]
  },
  {
   "cell_type": "code",
   "execution_count": null,
   "id": "90b6dff1",
   "metadata": {},
   "outputs": [],
   "source": [
    "instr_range = {\n",
    "    \"class1\":(0,16),\n",
    "    \"class2\":(16,55),\n",
    "    \"class3\":(55,78),\n",
    "    \"class4\":(78,128),\n",
    "}"
   ]
  },
  {
   "cell_type": "code",
   "execution_count": null,
   "id": "2e1f521c",
   "metadata": {},
   "outputs": [],
   "source": [
    "def mk_dir(key):\n",
    "    base_path = Path('./gen_data','key')\n",
    "    base_path.mkdir(parents=True, exist_ok=True)\n",
    "\n",
    "    x_path = Path(base_path,'wav')\n",
    "    x_path.mkdir(parents=True, exist_ok=True)\n",
    "\n",
    "    y_path = Path(base_path,'midi')\n",
    "    y_path.mkdir(parents=True, exist_ok=True)\n",
    "    return base_path,x_path,y_path"
   ]
  },
  {
   "cell_type": "code",
   "execution_count": null,
   "id": "3f86a800",
   "metadata": {},
   "outputs": [],
   "source": [
    "sf_list = os.listdir(\"./sf\")\n",
    "print(sf_list)"
   ]
  },
  {
   "cell_type": "code",
   "execution_count": null,
   "id": "c64f127e",
   "metadata": {},
   "outputs": [],
   "source": [
    "for sf_file in sf_list:\n",
    "    print(sf_file.split('.')[0])"
   ]
  },
  {
   "cell_type": "code",
   "execution_count": null,
   "id": "54fa3ad7",
   "metadata": {
    "scrolled": true
   },
   "outputs": [],
   "source": [
    "for key, value in instr_range.items():\n",
    "    base_path, x_path, y_path = mk_dir(key)\n",
    "    for sf_file in sf_list[:]:\n",
    "        for idx in tqdm(range(10)):\n",
    "            instr_list = []\n",
    "\n",
    "            n = np.random.randint(1,10)\n",
    "            for _ in range(n):\n",
    "                i = np.random.randint(*value)\n",
    "                instr = pmf.Instrument(program=i)\n",
    "                instr.name = pmf.program_to_instrument_name(i)\n",
    "\n",
    "                note_n = np.random.randint(2,10)\n",
    "                velocity = np.random.randint(50,125)\n",
    "\n",
    "                for _ in range(note_n):\n",
    "                    pitch = np.random.randint(24,120)\n",
    "                    start_time = np.random.randint(1,10)\n",
    "                    end_time = start_time + np.random.randint(1,4)\n",
    "                    note = pmf.Note(velocity=velocity,\n",
    "                                   pitch=pitch,\n",
    "                                   start=start_time,\n",
    "                                   end=end_time,)\n",
    "                    instr.notes.append(note)\n",
    "                instr_list.append(instr)\n",
    "\n",
    "            pm = pmf.PrettyMIDI()\n",
    "            for instr in instr_list:\n",
    "                pm.instruments.append(instr)\n",
    "\n",
    "            sf_path = os.path.join('./sf/',sf_file)\n",
    "            x = pm.fluidsynth(sr,sf2_path=sf_path)\n",
    "\n",
    "            filename = f\"{sf_file.split('.')[0]}-{idx:04d}\"\n",
    "\n",
    "            midi_path = os.path.join(y_path,f'{filename}.midi')\n",
    "            pm.write(midi_path)\n",
    "\n",
    "            wav_path = os.path.join(x_path,f'{filename}.wav')\n",
    "            sf.write(wav_path,x,sr,'PCM_32')"
   ]
  },
  {
   "cell_type": "code",
   "execution_count": null,
   "id": "dfc600d5",
   "metadata": {},
   "outputs": [],
   "source": [
    "import requests\n",
    "\n",
    "discord=\"https://discord.com/api/webhooks/987570078214144010/MqCbIplVSfwqCcL747t-1Sx6DRuM6_o7QnwmLgw3rpQAO3sB1cY-QUIwu8qCvcJ8KT63\"\n",
    "headers={\n",
    "    'Content-Type': 'application/json'\n",
    "}\n",
    "data = '{\"content\":\"Generating data Completed\"}'\n",
    "    \n",
    "\n",
    "response = requests.post(\n",
    "    discord,\n",
    "    headers=headers,\n",
    "    data=data.encode('utf8')\n",
    ")"
   ]
  }
 ],
 "metadata": {
  "kernelspec": {
   "display_name": "MA",
   "language": "python",
   "name": "ma"
  },
  "language_info": {
   "codemirror_mode": {
    "name": "ipython",
    "version": 3
   },
   "file_extension": ".py",
   "mimetype": "text/x-python",
   "name": "python",
   "nbconvert_exporter": "python",
   "pygments_lexer": "ipython3",
   "version": "3.9.12"
  }
 },
 "nbformat": 4,
 "nbformat_minor": 5
}
