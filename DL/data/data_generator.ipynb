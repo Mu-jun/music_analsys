{
 "cells": [
  {
   "cell_type": "code",
   "execution_count": 1,
   "id": "dfeb4527",
   "metadata": {},
   "outputs": [],
   "source": [
    "import pretty_midi_fluidsynth as pmf\n",
    "import librosa\n",
    "import numpy as np\n",
    "import pandas as pd\n",
    "\n",
    "import matplotlib.pyplot as plt\n",
    "import librosa.display\n",
    "from IPython.display import Audio"
   ]
  },
  {
   "cell_type": "code",
   "execution_count": 2,
   "id": "abbb1920",
   "metadata": {},
   "outputs": [],
   "source": [
    "sr = 44100\n",
    "\n",
    "hop_len = 512\n",
    "freq_w = 3\n",
    "octave = 8\n",
    "\n",
    "fs = 100"
   ]
  },
  {
   "cell_type": "code",
   "execution_count": 3,
   "id": "581f2e30",
   "metadata": {},
   "outputs": [],
   "source": [
    "df_dict = {'inputs':[],\n",
    "           'outputs':[]}"
   ]
  },
  {
   "cell_type": "code",
   "execution_count": 4,
   "id": "b8f55ee6",
   "metadata": {},
   "outputs": [],
   "source": [
    "for _ in range(100):\n",
    "    instr_list = []\n",
    "    \n",
    "    n = np.random.randint(1,10)\n",
    "    for _ in range(n):\n",
    "        i = np.random.randint(128)\n",
    "        instr = pmf.Instrument(program=i)\n",
    "        instr.name = pmf.program_to_instrument_name(i)\n",
    "        \n",
    "        note_n = np.random.randint(2,10)\n",
    "        for _ in range(note_n):\n",
    "            velocity = np.random.randint(50,120)\n",
    "            pitch = np.random.randint(24,120)\n",
    "            start_time = np.random.randint(1,10)\n",
    "            end_time = start_time + np.random.randint(1,4)\n",
    "            note = pmf.Note(velocity=velocity,\n",
    "                           pitch=pitch,\n",
    "                           start=start_time,\n",
    "                           end=end_time,)\n",
    "            instr.notes.append(note)\n",
    "        instr_list.append(instr)\n",
    "    \n",
    "    pm = pmf.PrettyMIDI()\n",
    "    for instr in instr_list:\n",
    "        pm.instruments.append(instr)\n",
    "\n",
    "    y = pm.get_piano_roll(fs)\n",
    "\n",
    "    wave_format = pm.fluidsynth(sr)\n",
    "\n",
    "    x = librosa.cqt(\n",
    "        wave_format, sr=sr,\n",
    "        hop_length= hop_len,\n",
    "        n_bins= 12*freq_w*octave,\n",
    "        bins_per_octave= 12*freq_w\n",
    "    )\n",
    "\n",
    "    df_dict['inputs'].append(x)\n",
    "    df_dict['outputs'].append(y)"
   ]
  },
  {
   "cell_type": "code",
   "execution_count": 5,
   "id": "b70eedf9",
   "metadata": {},
   "outputs": [
    {
     "name": "stdout",
     "output_type": "stream",
     "text": [
      "len(df_dict[\"inputs\"])=100\n",
      "len(df_dict[\"outputs\"])=100\n"
     ]
    }
   ],
   "source": [
    "print(f'{len(df_dict[\"inputs\"])=}')\n",
    "print(f'{len(df_dict[\"outputs\"])=}')"
   ]
  },
  {
   "cell_type": "code",
   "execution_count": 6,
   "id": "d659500b",
   "metadata": {},
   "outputs": [
    {
     "name": "stdout",
     "output_type": "stream",
     "text": [
      "df_dict[\"inputs\"][0].shape=(288, 1120)\n",
      "df_dict[\"outputs\"][0].shape=(128, 1200)\n"
     ]
    }
   ],
   "source": [
    "print(f'{df_dict[\"inputs\"][0].shape=}')\n",
    "print(f'{df_dict[\"outputs\"][0].shape=}')"
   ]
  },
  {
   "cell_type": "code",
   "execution_count": null,
   "id": "8c7c5e36",
   "metadata": {},
   "outputs": [],
   "source": []
  }
 ],
 "metadata": {
  "kernelspec": {
   "display_name": "MA",
   "language": "python",
   "name": "ma"
  },
  "language_info": {
   "codemirror_mode": {
    "name": "ipython",
    "version": 3
   },
   "file_extension": ".py",
   "mimetype": "text/x-python",
   "name": "python",
   "nbconvert_exporter": "python",
   "pygments_lexer": "ipython3",
   "version": "3.9.12"
  }
 },
 "nbformat": 4,
 "nbformat_minor": 5
}
