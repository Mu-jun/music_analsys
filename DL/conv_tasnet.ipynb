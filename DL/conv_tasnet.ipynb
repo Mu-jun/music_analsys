{
 "cells": [
  {
   "cell_type": "code",
   "execution_count": 2,
   "metadata": {},
   "outputs": [],
   "source": [
    "import numpy as np\n",
    "\n",
    "import tensorflow as tf\n",
    "from tensorflow import keras\n",
    "from tensorflow.keras import layers"
   ]
  },
  {
   "cell_type": "code",
   "execution_count": 3,
   "metadata": {},
   "outputs": [],
   "source": [
    "# Conv-TasNet\n",
    "class TasNet(keras.Model):\n",
    "    def __init__(self, enc_dim=512, feature_dim=128, sr=44100, win=2, layer=8, stack=3, kernel=3, num_spk=2, causal=False):\n",
    "        super(TasNet, self).__init__()\n",
    "        \n",
    "        # hyper parameters\n",
    "        self.num_spk = num_spk\n",
    "        self.enc_dim = enc_dim\n",
    "        self.feature_dim = feature_dim\n",
    "        self.win = int(sr*win/1000)\n",
    "        self.stride = self.win // 2\n",
    "        self.layer = layer\n",
    "        self.stack = stack\n",
    "        self.kernel = kernel\n",
    "        self.causal = causal\n",
    "        \n",
    "        # input encoder\n",
    "        self.encoder = layers.Conv1D(self.enc_dim, kernel_size=self.win, strides=self.stride)\n",
    "        \n",
    "        # TCN separator\n",
    "        self.TCN = models.TCN(self.enc_dim, self.enc_dim*self.num_spk, self.feature_dim, self.feature_dim*4, self.layer, self.stack, self.kernel, causal=self.causal)\n",
    "        self.receptive_field = self.TCN.receptive_field\n",
    "        \n",
    "        # output decoder\n",
    "        self.decoder = layers.Conv1DTranspose(self.enc_dim, kernel_size=self.win, strides=self.stride)"
   ]
  },
  {
   "cell_type": "code",
   "execution_count": null,
   "metadata": {},
   "outputs": [],
   "source": []
  },
  {
   "cell_type": "code",
   "execution_count": null,
   "metadata": {},
   "outputs": [],
   "source": []
  },
  {
   "cell_type": "code",
   "execution_count": null,
   "metadata": {},
   "outputs": [],
   "source": []
  },
  {
   "cell_type": "code",
   "execution_count": null,
   "metadata": {},
   "outputs": [],
   "source": []
  },
  {
   "cell_type": "code",
   "execution_count": null,
   "metadata": {},
   "outputs": [],
   "source": []
  },
  {
   "cell_type": "code",
   "execution_count": null,
   "metadata": {},
   "outputs": [],
   "source": []
  }
 ],
 "metadata": {
  "interpreter": {
   "hash": "c9c5be06856482a00280bb2577ae5696fe45b60950567c0dbf52aa7199347797"
  },
  "kernelspec": {
   "display_name": "Python 3 (ipykernel)",
   "language": "python",
   "name": "python3"
  },
  "language_info": {
   "codemirror_mode": {
    "name": "ipython",
    "version": 3
   },
   "file_extension": ".py",
   "mimetype": "text/x-python",
   "name": "python",
   "nbconvert_exporter": "python",
   "pygments_lexer": "ipython3",
   "version": "3.9.7"
  }
 },
 "nbformat": 4,
 "nbformat_minor": 2
}
