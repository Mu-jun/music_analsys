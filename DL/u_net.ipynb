{
 "cells": [
  {
   "cell_type": "code",
   "execution_count": 1,
   "metadata": {},
   "outputs": [],
   "source": [
    "import numpy as np\n",
    "import matplotlib.pyplot as plt\n",
    "\n",
    "import librosa\n",
    "import librosa.display\n",
    "\n",
    "import tensorflow as tf\n",
    "from tensorflow import keras\n",
    "\n",
    "from functools import partial\n",
    "\n",
    "from sklearn.model_selection import train_test_split"
   ]
  },
  {
   "cell_type": "markdown",
   "metadata": {},
   "source": [
    "# U-net"
   ]
  },
  {
   "cell_type": "code",
   "execution_count": 2,
   "metadata": {},
   "outputs": [
    {
     "name": "stdout",
     "output_type": "stream",
     "text": [
      "Model: \"model\"\n",
      "__________________________________________________________________________________________________\n",
      " Layer (type)                   Output Shape         Param #     Connected to                     \n",
      "==================================================================================================\n",
      " input_1 (InputLayer)           [(None, None, None,  0           []                               \n",
      "                                 1)]                                                              \n",
      "                                                                                                  \n",
      " conv2d (Conv2D)                (None, None, None,   160         ['input_1[0][0]']                \n",
      "                                16)                                                               \n",
      "                                                                                                  \n",
      " batch_normalization (BatchNorm  (None, None, None,   64         ['conv2d[0][0]']                 \n",
      " alization)                     16)                                                               \n",
      "                                                                                                  \n",
      " elu (ELU)                      multiple             0           ['batch_normalization[0][0]',    \n",
      "                                                                  'batch_normalization_1[0][0]',  \n",
      "                                                                  'batch_normalization_2[0][0]',  \n",
      "                                                                  'batch_normalization_3[0][0]',  \n",
      "                                                                  'batch_normalization_4[0][0]']  \n",
      "                                                                                                  \n",
      " conv2d_1 (Conv2D)              (None, None, None,   4640        ['elu[0][0]']                    \n",
      "                                32)                                                               \n",
      "                                                                                                  \n",
      " batch_normalization_1 (BatchNo  (None, None, None,   128        ['conv2d_1[0][0]']               \n",
      " rmalization)                   32)                                                               \n",
      "                                                                                                  \n",
      " conv2d_2 (Conv2D)              (None, None, None,   18496       ['elu[1][0]']                    \n",
      "                                64)                                                               \n",
      "                                                                                                  \n",
      " batch_normalization_2 (BatchNo  (None, None, None,   256        ['conv2d_2[0][0]']               \n",
      " rmalization)                   64)                                                               \n",
      "                                                                                                  \n",
      " conv2d_3 (Conv2D)              (None, None, None,   73856       ['elu[2][0]']                    \n",
      "                                128)                                                              \n",
      "                                                                                                  \n",
      " batch_normalization_3 (BatchNo  (None, None, None,   512        ['conv2d_3[0][0]']               \n",
      " rmalization)                   128)                                                              \n",
      "                                                                                                  \n",
      " conv2d_4 (Conv2D)              (None, None, None,   295168      ['elu[3][0]']                    \n",
      "                                256)                                                              \n",
      "                                                                                                  \n",
      " batch_normalization_4 (BatchNo  (None, None, None,   1024       ['conv2d_4[0][0]']               \n",
      " rmalization)                   256)                                                              \n",
      "                                                                                                  \n",
      " conv2d_5 (Conv2D)              (None, None, None,   1180160     ['elu[4][0]']                    \n",
      "                                512)                                                              \n",
      "                                                                                                  \n",
      " conv2d_transpose (Conv2DTransp  (None, None, None,   1179904    ['conv2d_5[0][0]']               \n",
      " ose)                           256)                                                              \n",
      "                                                                                                  \n",
      " leaky_re_lu (LeakyReLU)        multiple             0           ['conv2d_transpose[0][0]',       \n",
      "                                                                  'conv2d_transpose_1[0][0]',     \n",
      "                                                                  'conv2d_transpose_2[0][0]',     \n",
      "                                                                  'conv2d_transpose_3[0][0]',     \n",
      "                                                                  'conv2d_transpose_4[0][0]',     \n",
      "                                                                  'conv2d_transpose_5[0][0]']     \n",
      "                                                                                                  \n",
      " batch_normalization_5 (BatchNo  (None, None, None,   1024       ['leaky_re_lu[0][0]']            \n",
      " rmalization)                   256)                                                              \n",
      "                                                                                                  \n",
      " dropout (Dropout)              (None, None, None,   0           ['batch_normalization_5[0][0]']  \n",
      "                                256)                                                              \n",
      "                                                                                                  \n",
      " concatenate (Concatenate)      (None, None, None,   0           ['conv2d_4[0][0]',               \n",
      "                                512)                              'dropout[0][0]']                \n",
      "                                                                                                  \n",
      " conv2d_transpose_1 (Conv2DTran  (None, None, None,   589952     ['concatenate[0][0]']            \n",
      " spose)                         128)                                                              \n",
      "                                                                                                  \n",
      " batch_normalization_6 (BatchNo  (None, None, None,   512        ['leaky_re_lu[1][0]']            \n",
      " rmalization)                   128)                                                              \n",
      "                                                                                                  \n",
      " dropout_1 (Dropout)            (None, None, None,   0           ['batch_normalization_6[0][0]']  \n",
      "                                128)                                                              \n",
      "                                                                                                  \n",
      " concatenate_1 (Concatenate)    (None, None, None,   0           ['conv2d_3[0][0]',               \n",
      "                                256)                              'dropout_1[0][0]']              \n",
      "                                                                                                  \n",
      " conv2d_transpose_2 (Conv2DTran  (None, None, None,   147520     ['concatenate_1[0][0]']          \n",
      " spose)                         64)                                                               \n",
      "                                                                                                  \n",
      " batch_normalization_7 (BatchNo  (None, None, None,   256        ['leaky_re_lu[2][0]']            \n",
      " rmalization)                   64)                                                               \n",
      "                                                                                                  \n",
      " dropout_2 (Dropout)            (None, None, None,   0           ['batch_normalization_7[0][0]']  \n",
      "                                64)                                                               \n",
      "                                                                                                  \n",
      " concatenate_2 (Concatenate)    (None, None, None,   0           ['conv2d_2[0][0]',               \n",
      "                                128)                              'dropout_2[0][0]']              \n",
      "                                                                                                  \n",
      " conv2d_transpose_3 (Conv2DTran  (None, None, None,   36896      ['concatenate_2[0][0]']          \n",
      " spose)                         32)                                                               \n",
      "                                                                                                  \n",
      " batch_normalization_8 (BatchNo  (None, None, None,   128        ['leaky_re_lu[3][0]']            \n",
      " rmalization)                   32)                                                               \n",
      "                                                                                                  \n",
      " dropout_3 (Dropout)            (None, None, None,   0           ['batch_normalization_8[0][0]']  \n",
      "                                32)                                                               \n",
      "                                                                                                  \n",
      " concatenate_3 (Concatenate)    (None, None, None,   0           ['conv2d_1[0][0]',               \n",
      "                                64)                               'dropout_3[0][0]']              \n",
      "                                                                                                  \n",
      " conv2d_transpose_4 (Conv2DTran  (None, None, None,   9232       ['concatenate_3[0][0]']          \n",
      " spose)                         16)                                                               \n",
      "                                                                                                  \n",
      " batch_normalization_9 (BatchNo  (None, None, None,   64         ['leaky_re_lu[4][0]']            \n",
      " rmalization)                   16)                                                               \n",
      "                                                                                                  \n",
      " dropout_4 (Dropout)            (None, None, None,   0           ['batch_normalization_9[0][0]']  \n",
      "                                16)                                                               \n",
      "                                                                                                  \n",
      " concatenate_4 (Concatenate)    (None, None, None,   0           ['conv2d[0][0]',                 \n",
      "                                32)                               'dropout_4[0][0]']              \n",
      "                                                                                                  \n",
      " conv2d_transpose_5 (Conv2DTran  (None, None, None,   289        ['concatenate_4[0][0]']          \n",
      " spose)                         1)                                                                \n",
      "                                                                                                  \n",
      " batch_normalization_10 (BatchN  (None, None, None,   4          ['leaky_re_lu[5][0]']            \n",
      " ormalization)                  1)                                                                \n",
      "                                                                                                  \n",
      " conv2d_6 (Conv2D)              (None, None, None,   17          ['batch_normalization_10[0][0]'] \n",
      "                                1)                                                                \n",
      "                                                                                                  \n",
      "==================================================================================================\n",
      "Total params: 3,540,262\n",
      "Trainable params: 3,538,276\n",
      "Non-trainable params: 1,986\n",
      "__________________________________________________________________________________________________\n"
     ]
    }
   ],
   "source": [
    "# U-net모델 만들기\n",
    "## tools\n",
    "conv_filters = [16, 32, 64, 128, 256, 512]\n",
    "cont_factory = partial(\n",
    "    keras.layers.Conv2D, kernel_size=(3,3), strides=1, padding=\"same\"\n",
    ")\n",
    "cont_activation = keras.layers.ELU()\n",
    "\n",
    "expan_factory = partial(\n",
    "    keras.layers.Conv2DTranspose,\n",
    "    kernel_size=(3,3), strides=1, padding=\"same\"\n",
    ")\n",
    "expan_activation = keras.layers.LeakyReLU(0.2)\n",
    "\n",
    "## Input\n",
    "inputs = keras.Input((None,None,1))\n",
    "## Contracting path\n",
    "## 1\n",
    "conv1 = cont_factory(conv_filters[0])(inputs)\n",
    "batch1 = keras.layers.BatchNormalization(axis=-1)(conv1)\n",
    "rel1 = cont_activation(batch1)\n",
    "## 2\n",
    "conv2 = cont_factory(conv_filters[1])(rel1)\n",
    "batch2 = keras.layers.BatchNormalization(axis=-1)(conv2)\n",
    "rel2 = cont_activation(batch2)\n",
    "## 3\n",
    "conv3 = cont_factory(conv_filters[2])(rel2)\n",
    "batch3 = keras.layers.BatchNormalization(axis=-1)(conv3)\n",
    "rel3 = cont_activation(batch3)\n",
    "## 4\n",
    "conv4 = cont_factory(conv_filters[3])(rel3)\n",
    "batch4 = keras.layers.BatchNormalization(axis=-1)(conv4)\n",
    "rel4 = cont_activation(batch4)\n",
    "## 5\n",
    "conv5 = cont_factory(conv_filters[4])(rel4)\n",
    "batch5 = keras.layers.BatchNormalization(axis=-1)(conv5)\n",
    "rel5 = cont_activation(batch5)\n",
    "## 6\n",
    "conv6 = cont_factory(conv_filters[5])(rel5)\n",
    "\n",
    "## Expansive path\n",
    "## 6\n",
    "up1 = expan_factory(conv_filters[4])(conv6)\n",
    "up1 = expan_activation(up1)\n",
    "up_batch1 = keras.layers.BatchNormalization(axis=-1)(up1)\n",
    "drop1 = keras.layers.Dropout(0.5)(up_batch1)\n",
    "merge1 = keras.layers.Concatenate(axis=-1)([conv5,drop1])\n",
    "## 5\n",
    "up2 = expan_factory(conv_filters[3])(merge1)\n",
    "up2 = expan_activation(up2)\n",
    "up_batch2 = keras.layers.BatchNormalization(axis=-1)(up2)\n",
    "drop2 = keras.layers.Dropout(0.5)(up_batch2)\n",
    "merge2 = keras.layers.Concatenate(axis=-1)([conv4,drop2])\n",
    "## 4\n",
    "up3 = expan_factory(conv_filters[2])(merge2)\n",
    "up3 = expan_activation(up3)\n",
    "up_batch3 = keras.layers.BatchNormalization(axis=-1)(up3)\n",
    "drop3 = keras.layers.Dropout(0.5)(up_batch3)\n",
    "merge3 = keras.layers.Concatenate(axis=-1)([conv3,drop3])\n",
    "## 3\n",
    "up4 = expan_factory(conv_filters[1])(merge3)\n",
    "up4 = expan_activation(up4)\n",
    "up_batch4 = keras.layers.BatchNormalization(axis=-1)(up4)\n",
    "drop4 = keras.layers.Dropout(0.5)(up_batch4)\n",
    "merge4 = keras.layers.Concatenate(axis=-1)([conv2,drop4])\n",
    "## 2\n",
    "up5 = expan_factory(conv_filters[0])(merge4)\n",
    "up5 = expan_activation(up5)\n",
    "up_batch5 = keras.layers.BatchNormalization(axis=-1)(up5)\n",
    "drop5 = keras.layers.Dropout(0.5)(up_batch5)\n",
    "merge5 = keras.layers.Concatenate(axis=-1)([conv1,drop5])\n",
    "## 1\n",
    "up6 = expan_factory(1)(merge5)\n",
    "up6 = expan_activation(up6)\n",
    "up_batch6 = keras.layers.BatchNormalization(axis=-1)(up6)\n",
    "## output\n",
    "outputs = keras.layers.Conv2D(1, (4,4), dilation_rate=(2,2), activation=\"sigmoid\", padding=\"same\")(up_batch6)\n",
    "\n",
    "model = keras.Model(inputs, outputs)\n",
    "model.summary()"
   ]
  },
  {
   "cell_type": "code",
   "execution_count": 6,
   "metadata": {},
   "outputs": [],
   "source": [
    "## compile\n",
    "model.compile(loss=\"binary_crossentropy\",\n",
    "              optimizer = \"adam\",\n",
    "              metrics = \"accuracy\")"
   ]
  },
  {
   "cell_type": "code",
   "execution_count": 4,
   "metadata": {},
   "outputs": [
    {
     "name": "stdout",
     "output_type": "stream",
     "text": [
      "(20488, 168, 87, 1) (20488,)\n",
      "0.0 1.0\n"
     ]
    }
   ],
   "source": [
    "data = np.load('cqt.npz')\n",
    "train = librosa.amplitude_to_db(data['spec'], ref=np.max).reshape(-1, 168,87,1) # cqt\n",
    "train = (train+80)/80\n",
    "instr_target = data['instr'][:,0] # instr\n",
    "note_target = data['instr'][:,1] # note\n",
    "print(train.shape, note_target.shape)\n",
    "print(train.min(),train.max())"
   ]
  },
  {
   "cell_type": "code",
   "execution_count": 5,
   "metadata": {},
   "outputs": [
    {
     "name": "stdout",
     "output_type": "stream",
     "text": [
      "(18439, 168, 87, 1) (2049, 168, 87, 1)\n"
     ]
    }
   ],
   "source": [
    "train_data, test_data, train_target, test_target = train_test_split(\n",
    "    train, instr_target, test_size=0.1, stratify=instr_target\n",
    ")\n",
    "\n",
    "print(train_data.shape, test_data.shape)"
   ]
  },
  {
   "cell_type": "code",
   "execution_count": null,
   "metadata": {},
   "outputs": [],
   "source": [
    "# 0"
   ]
  },
  {
   "cell_type": "code",
   "execution_count": 10,
   "metadata": {},
   "outputs": [
    {
     "data": {
      "text/plain": [
       "(2, 2)"
      ]
     },
     "execution_count": 10,
     "metadata": {},
     "output_type": "execute_result"
    }
   ],
   "source": [
    "x = np.array([[1,2],[3,4]])\n",
    "x.shape"
   ]
  },
  {
   "cell_type": "code",
   "execution_count": 11,
   "metadata": {},
   "outputs": [
    {
     "data": {
      "text/plain": [
       "(1, 2, 2)"
      ]
     },
     "execution_count": 11,
     "metadata": {},
     "output_type": "execute_result"
    }
   ],
   "source": [
    "y = np.expand_dims(x,axis=0)\n",
    "y.shape"
   ]
  },
  {
   "cell_type": "code",
   "execution_count": 12,
   "metadata": {},
   "outputs": [
    {
     "data": {
      "text/plain": [
       "array([[[1, 2],\n",
       "        [3, 4]]])"
      ]
     },
     "execution_count": 12,
     "metadata": {},
     "output_type": "execute_result"
    }
   ],
   "source": [
    "y"
   ]
  },
  {
   "cell_type": "code",
   "execution_count": null,
   "metadata": {},
   "outputs": [],
   "source": []
  }
 ],
 "metadata": {
  "interpreter": {
   "hash": "b7ceefec71f59fb0985b7b98aa0f9117e630e2565b77be81cab4e2a12c0fe131"
  },
  "kernelspec": {
   "display_name": "Python 3.9.12 ('MA')",
   "language": "python",
   "name": "python3"
  },
  "language_info": {
   "codemirror_mode": {
    "name": "ipython",
    "version": 3
   },
   "file_extension": ".py",
   "mimetype": "text/x-python",
   "name": "python",
   "nbconvert_exporter": "python",
   "pygments_lexer": "ipython3",
   "version": "3.9.12"
  },
  "orig_nbformat": 4
 },
 "nbformat": 4,
 "nbformat_minor": 2
}
