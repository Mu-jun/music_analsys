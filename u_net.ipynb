{
 "cells": [
  {
   "cell_type": "code",
   "execution_count": 2,
   "metadata": {},
   "outputs": [],
   "source": [
    "import numpy as np\n",
    "import matplotlib.pyplot as plt\n",
    "\n",
    "import librosa\n",
    "import librosa.display\n",
    "\n",
    "import tensorflow as tf\n",
    "from tensorflow import keras\n",
    "from tensorflow.compat import v1\n",
    "from functools import partial"
   ]
  },
  {
   "cell_type": "code",
   "execution_count": 14,
   "metadata": {},
   "outputs": [
    {
     "name": "stdout",
     "output_type": "stream",
     "text": [
      "(20488, 168, 87, 1) (20488,)\n",
      "0.0 1.0\n"
     ]
    }
   ],
   "source": [
    "data = np.load('cqt.npz')\n",
    "train = librosa.amplitude_to_db(data['spec'], ref=np.max).reshape(-1, 168,87,1) # cqt\n",
    "train = (train+80)/80\n",
    "instr_target = data['instr'][:,0] # instr\n",
    "note_target = data['instr'][:,1] # note\n",
    "print(train.shape, note_target.shape)\n",
    "print(train.min(),train.max())"
   ]
  },
  {
   "cell_type": "code",
   "execution_count": 6,
   "metadata": {},
   "outputs": [
    {
     "name": "stdout",
     "output_type": "stream",
     "text": [
      "(18439, 168, 87, 1) (2049, 168, 87, 1)\n"
     ]
    }
   ],
   "source": [
    "from sklearn.model_selection import train_test_split\n",
    "\n",
    "train_data, test_data, train_target, test_target = train_test_split(\n",
    "    train, target, test_size=0.1, stratify=target\n",
    ")\n",
    "\n",
    "print(train_data.shape, test_data.shape)"
   ]
  },
  {
   "cell_type": "code",
   "execution_count": null,
   "metadata": {},
   "outputs": [],
   "source": [
    "def U_net_model(input_tensor):\n",
    "# U-net모델 만들기\n",
    "## tools\n",
    "    conv_filters = [16, 32, 64, 128, 256, 512]\n",
    "    cont_factory = partial(\n",
    "        keras.layers.Cont, kernel_size=(3,3), strides=1, padding=\"same\"\n",
    "    )\n",
    "    cont_act_func = keras.layers.ReLU()\n",
    "    \n",
    "\n",
    "## Contracting path\n",
    "    ## 1\n",
    "    conv1 = cont_factory(conv_filters[0])(input_tensor)\n",
    "    batch1 = keras.layers.BatchNormalization(axis=-1)(conv1)\n",
    "    rel1 = cont_act_func(batch1)\n",
    "    ## 2\n",
    "    conv2 = cont_factory(conv_filters[1])(rel1)\n",
    "    batch2 = keras.layers.BatchNormalization(axis=-1)(conv2)\n",
    "    rel2 = cont_act_func(batch2)\n",
    "    ## 3\n",
    "    conv3 = cont_factory(conv_filters[2])(rel2)\n",
    "    batch3 = keras.layers.BatchNormalization(axis=-1)(conv3)\n",
    "    rel3 = cont_act_func(batch3)\n",
    "    ## 4\n",
    "    conv4 = cont_factory(conv_filters[3])(rel3)\n",
    "    batch4 = keras.layers.BatchNormalization(axis=-1)(conv4)\n",
    "    rel4 = cont_act_func(batch4)\n",
    "    ## 5\n",
    "    conv5 = cont_factory(conv_filters[4])(rel4)\n",
    "    batch5 = keras.layers.BatchNormalization(axis=-1)(conv5)\n",
    "    rel5 = cont_act_func(batch5)\n",
    "    ## 6\n",
    "    conv6 = cont_factory(conv_filters[5])(rel5)\n",
    "\n",
    "## Expansive path"
   ]
  }
 ],
 "metadata": {
  "interpreter": {
   "hash": "b7ceefec71f59fb0985b7b98aa0f9117e630e2565b77be81cab4e2a12c0fe131"
  },
  "kernelspec": {
   "display_name": "Python 3.9.12 ('MA')",
   "language": "python",
   "name": "python3"
  },
  "language_info": {
   "codemirror_mode": {
    "name": "ipython",
    "version": 3
   },
   "file_extension": ".py",
   "mimetype": "text/x-python",
   "name": "python",
   "nbconvert_exporter": "python",
   "pygments_lexer": "ipython3",
   "version": "3.9.12"
  },
  "orig_nbformat": 4
 },
 "nbformat": 4,
 "nbformat_minor": 2
}
